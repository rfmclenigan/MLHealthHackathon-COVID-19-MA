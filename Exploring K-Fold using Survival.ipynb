{
 "cells": [
  {
   "cell_type": "markdown",
   "metadata": {},
   "source": [
    "# Exploring K-Fold using Survival"
   ]
  },
  {
   "cell_type": "code",
   "execution_count": 1,
   "metadata": {},
   "outputs": [],
   "source": [
    "import pandas as pd\n",
    "from datetime import datetime\n",
    "from datetime import date\n",
    "import numpy as np\n",
    "import seaborn as sns\n",
    "import matplotlib.pyplot as plt \n",
    "%matplotlib inline"
   ]
  },
  {
   "cell_type": "markdown",
   "metadata": {},
   "source": [
    "# Load data and create subsets\n",
    "### Observation Data"
   ]
  },
  {
   "cell_type": "code",
   "execution_count": 2,
   "metadata": {},
   "outputs": [],
   "source": [
    "observations_df = pd.read_csv('C:\\\\Projects\\\\healthdata\\\\train\\\\observations.csv')\n",
    "covid19_status_df = observations_df.loc[(observations_df['CODE'] == '94531-1')]\n",
    "covid19_status2_df = observations_df.loc[(observations_df['CODE'] == '94531-1') & (observations_df['VALUE'].str.contains('Detected'))]"
   ]
  },
  {
   "cell_type": "code",
   "execution_count": 3,
   "metadata": {},
   "outputs": [
    {
     "data": {
      "text/plain": [
       "(105548, 8)"
      ]
     },
     "execution_count": 3,
     "metadata": {},
     "output_type": "execute_result"
    }
   ],
   "source": [
    "covid19_status_df.shape"
   ]
  },
  {
   "cell_type": "code",
   "execution_count": 4,
   "metadata": {},
   "outputs": [
    {
     "data": {
      "text/plain": [
       "(73697, 8)"
      ]
     },
     "execution_count": 4,
     "metadata": {},
     "output_type": "execute_result"
    }
   ],
   "source": [
    "covid19_status2_df.shape"
   ]
  },
  {
   "cell_type": "markdown",
   "metadata": {},
   "source": [
    "### Patient Data "
   ]
  },
  {
   "cell_type": "code",
   "execution_count": 5,
   "metadata": {},
   "outputs": [],
   "source": [
    "patients_df = pd.read_csv('C:\\\\Projects\\\\healthdata\\\\train\\\\patients.csv')\n",
    "patients_subset_df = pd.DataFrame([patients_df.Id, patients_df.BIRTHDATE, patients_df.DEATHDATE, patients_df.MARITAL, patients_df.RACE, patients_df.ETHNICITY, patients_df.GENDER]).transpose()\n",
    "covid19_patients_df = patients_subset_df.loc[(patients_subset_df['Id'].isin(covid19_status2_df['PATIENT']))]"
   ]
  },
  {
   "cell_type": "markdown",
   "metadata": {},
   "source": [
    "#### Add column to covid19_patients_df to track patients who survived: '1' = survived, '0' = died"
   ]
  },
  {
   "cell_type": "code",
   "execution_count": 6,
   "metadata": {},
   "outputs": [
    {
     "name": "stderr",
     "output_type": "stream",
     "text": [
      "C:\\ProgramData\\Anaconda3\\lib\\site-packages\\ipykernel_launcher.py:1: SettingWithCopyWarning: \n",
      "A value is trying to be set on a copy of a slice from a DataFrame.\n",
      "Try using .loc[row_indexer,col_indexer] = value instead\n",
      "\n",
      "See the caveats in the documentation: http://pandas.pydata.org/pandas-docs/stable/user_guide/indexing.html#returning-a-view-versus-a-copy\n",
      "  \"\"\"Entry point for launching an IPython kernel.\n"
     ]
    }
   ],
   "source": [
    "covid19_patients_df[\"SURVIVAL\"] = covid19_patients_df[\"DEATHDATE\"].apply(lambda x: 1 if pd.isnull(x) else 0)"
   ]
  },
  {
   "cell_type": "markdown",
   "metadata": {},
   "source": [
    "#### Calculate Age for each patient, use DEATHDATE if not null, else use today's date."
   ]
  },
  {
   "cell_type": "code",
   "execution_count": 7,
   "metadata": {},
   "outputs": [
    {
     "name": "stderr",
     "output_type": "stream",
     "text": [
      "C:\\ProgramData\\Anaconda3\\lib\\site-packages\\ipykernel_launcher.py:9: SettingWithCopyWarning: \n",
      "A value is trying to be set on a copy of a slice from a DataFrame.\n",
      "Try using .loc[row_indexer,col_indexer] = value instead\n",
      "\n",
      "See the caveats in the documentation: http://pandas.pydata.org/pandas-docs/stable/user_guide/indexing.html#returning-a-view-versus-a-copy\n",
      "  if __name__ == '__main__':\n"
     ]
    }
   ],
   "source": [
    "def calculate_age(born, death):\n",
    "    born = datetime.strptime(born, \"%Y-%m-%d\").date()\n",
    "    if pd.isnull(death):\n",
    "        today = date.today()\n",
    "    else:        \n",
    "        today = datetime.strptime(death, \"%Y-%m-%d\").date()\n",
    "    return today.year - born.year - ((today.month, today.day) < (born.month, born.day))\n",
    "\n",
    "covid19_patients_df['AGE'] = covid19_patients_df.apply(lambda x: calculate_age(x.BIRTHDATE, x.DEATHDATE), axis=1)"
   ]
  },
  {
   "cell_type": "markdown",
   "metadata": {},
   "source": [
    "### Encounters Date: Contains Hospitalizations"
   ]
  },
  {
   "cell_type": "code",
   "execution_count": 8,
   "metadata": {},
   "outputs": [],
   "source": [
    "encounters_df = pd.read_csv('C:\\\\Projects\\\\healthdata\\\\train\\\\encounters.csv')"
   ]
  },
  {
   "cell_type": "markdown",
   "metadata": {},
   "source": [
    "#### Create DataFrame with only COVID-19 hospitalizations.\n",
    "#### Create a subset DataFrame that only contains the following columns: Id, START, STOP, PATIENT, CODE, DESCRIPTION, REASONCODE, REASONDESCRIPTION."
   ]
  },
  {
   "cell_type": "code",
   "execution_count": 9,
   "metadata": {},
   "outputs": [],
   "source": [
    "covid19_hosp_df = encounters_df.loc[(encounters_df['REASONCODE'] == 840539006)] \n",
    "covid19_hosp_subset_df = pd.DataFrame([covid19_hosp_df.Id, covid19_hosp_df.START, covid19_hosp_df.STOP, covid19_hosp_df.PATIENT, covid19_hosp_df.CODE, covid19_hosp_df.DESCRIPTION, covid19_hosp_df.REASONCODE, covid19_hosp_df.REASONDESCRIPTION]).transpose()"
   ]
  },
  {
   "cell_type": "markdown",
   "metadata": {},
   "source": [
    "#### Insert column containing number of days hospitalized into the COVID-19 hospital dataframe."
   ]
  },
  {
   "cell_type": "code",
   "execution_count": 10,
   "metadata": {},
   "outputs": [],
   "source": [
    "covid19_hosp_subset_df['START'] = pd.to_datetime(covid19_hosp_subset_df['START'])\n",
    "covid19_hosp_subset_df['STOP'] = pd.to_datetime(covid19_hosp_subset_df['STOP'])\n",
    "covid19_hosp_subset_df.insert(3, 'DAYSHOSPITALIZED', (covid19_hosp_subset_df['STOP'] - covid19_hosp_subset_df['START']))\n",
    "covid19_patients_df = pd.merge(covid19_patients_df, covid19_hosp_subset_df[['DAYSHOSPITALIZED', 'PATIENT']], how='left', left_on='Id', right_on='PATIENT')\n",
    "covid19_patients_df.drop(columns='PATIENT', inplace = True)\n",
    "covid19_patients_df['DAYSHOSPITALIZED'] = pd.to_numeric(covid19_patients_df['DAYSHOSPITALIZED'].dt.days, downcast='integer')\n",
    "covid19_patients_df['DAYSHOSPITALIZED'] = covid19_patients_df['DAYSHOSPITALIZED'].fillna(0)"
   ]
  },
  {
   "cell_type": "markdown",
   "metadata": {},
   "source": [
    "### Conditions Data"
   ]
  },
  {
   "cell_type": "code",
   "execution_count": 11,
   "metadata": {},
   "outputs": [],
   "source": [
    "conditions_df = pd.read_csv('C:\\\\Projects\\\\healthdata\\\\train\\\\conditions.csv')"
   ]
  },
  {
   "cell_type": "code",
   "execution_count": 12,
   "metadata": {},
   "outputs": [
    {
     "name": "stdout",
     "output_type": "stream",
     "text": [
      "CODE             DESCRIPTION                                                                     \n",
      "1734006          Fracture of the vertebral column with spinal cord injury                              123\n",
      "5602001          Opioid abuse (disorder)                                                             10924\n",
      "6072007          Bleeding from anus                                                                    705\n",
      "7200002          Alcoholism                                                                          13882\n",
      "10509002         Acute bronchitis (disorder)                                                          6356\n",
      "11218009         Infection caused by Pseudomonas aeruginosa                                             13\n",
      "15724005         Fracture of vertebral column without spinal cord injury                                18\n",
      "15777000         Prediabetes                                                                         55868\n",
      "16114001         Fracture of ankle                                                                     492\n",
      "19169002         Miscarriage in first trimester                                                      25897\n",
      "22298006         Myocardial Infarction                                                                3698\n",
      "24079001         Atopic dermatitis                                                                     588\n",
      "25064002         Headache (finding)                                                                  10497\n",
      "26929004         Alzheimer's disease (disorder)                                                       4492\n",
      "30832001         Rupture of patellar tendon                                                             88\n",
      "33737001         Fracture of rib                                                                       253\n",
      "35999006         Blighted ovum                                                                         183\n",
      "36923009         Major depression  single episode                                                       16\n",
      "36955009         Loss of taste (finding)                                                             38100\n",
      "36971009         Sinusitis (disorder)                                                                  918\n",
      "38822007         Cystitis                                                                              246\n",
      "39848009         Whiplash injury to neck                                                               684\n",
      "40055000         Chronic sinusitis (disorder)                                                        31672\n",
      "40095003         Injury of kidney (disorder)                                                          1927\n",
      "40275004         Contact dermatitis                                                                    108\n",
      "43724002         Chill (finding)                                                                      8986\n",
      "43878008         Streptococcal sore throat (disorder)                                                 1396\n",
      "44054006         Diabetes                                                                            23686\n",
      "44465007         Sprain of ankle                                                                      1231\n",
      "45816000         Pyelonephritis                                                                          5\n",
      "47200007         Non-low risk pregnancy                                                                 28\n",
      "47505003         Posttraumatic stress disorder                                                         425\n",
      "47693006         Rupture of appendix                                                                  2132\n",
      "48333001         Burn injury(morphologic abnormality)                                                  132\n",
      "49436004         Atrial Fibrillation                                                                  6174\n",
      "49727002         Cough (finding)                                                                     51508\n",
      "53741008         Coronary Heart Disease                                                              10364\n",
      "55680006         Drug overdose                                                                        7235\n",
      "55822004         Hyperlipidemia                                                                      21510\n",
      "56018004         Wheezing (finding)                                                                  15962\n",
      "57676002         Joint pain (finding)                                                                11613\n",
      "58150001         Fracture of clavicle                                                                  552\n",
      "59621000         Hypertension                                                                        42301\n",
      "62106007         Concussion with no loss of consciousness                                              728\n",
      "62564004         Concussion with loss of consciousness                                                 184\n",
      "64859006         Osteoporosis (disorder)                                                              8342\n",
      "65275009         Acute Cholecystitis                                                                    50\n",
      "65363002         Otitis media                                                                          947\n",
      "65710008         Acute respiratory failure (disorder)                                                10728\n",
      "65966004         Fracture of forearm                                                                   712\n",
      "66857006         Hemoptysis (finding)                                                                  824\n",
      "67782005         Acute respiratory distress syndrome (disorder)                                       3568\n",
      "68235000         Nasal congestion (finding)                                                           3511\n",
      "68496003         Polyp of colon                                                                       8967\n",
      "68962001         Muscle pain (finding)                                                               11613\n",
      "69896004         Rheumatoid arthritis                                                                  390\n",
      "70704007         Sprain of wrist                                                                       508\n",
      "72892002         Normal pregnancy                                                                    11120\n",
      "74400008         Appendicitis                                                                         6976\n",
      "75498004         Acute bacterial sinusitis (disorder)                                                  885\n",
      "76571007         Septic shock (disorder)                                                              2641\n",
      "79586000         Tubal pregnancy                                                                      3521\n",
      "80394007         Hyperglycemia (disorder)                                                            10041\n",
      "82423001         Chronic pain                                                                         6692\n",
      "83664006         Idiopathic atrophic hypothyroidism                                                   1357\n",
      "84114007         Heart failure (disorder)                                                             2170\n",
      "84229001         Fatigue (finding)                                                                   28990\n",
      "84757009         Epilepsy                                                                             2634\n",
      "86175003         Injury of heart (disorder)                                                           1905\n",
      "86849004         Suicidal deliberate poisoning                                                           6\n",
      "87433001         Pulmonary emphysema (disorder)                                                       2849\n",
      "87628006         Bacterial infectious disease (disorder)                                               772\n",
      "88805009         Chronic congestive heart failure (disorder)                                          8026\n",
      "90560007         Gout                                                                                 1358\n",
      "92691004         Carcinoma in situ of prostate (disorder)                                            18159\n",
      "93761005         Primary malignant neoplasm of colon                                                   209\n",
      "94260004         Secondary malignant neoplasm of colon                                                 320\n",
      "95417003         Primary fibromyalgia syndrome                                                         545\n",
      "109838007        Overlapping malignant neoplasm of colon                                               819\n",
      "110030002        Concussion injury of brain                                                            331\n",
      "126906006        Neoplasm of prostate                                                                19922\n",
      "127013003        Diabetic renal disease (disorder)                                                   19558\n",
      "127295002        Traumatic brain injury (disorder)                                                     750\n",
      "128613002        Seizure disorder                                                                     4915\n",
      "156073000        Fetus with unknown complication                                                       369\n",
      "161621004        History of upper limb amputation (situation)                                            3\n",
      "161622006        History of lower limb amputation (situation)                                           55\n",
      "162573006        Suspected lung cancer (situation)                                                    9616\n",
      "162864005        Body mass index 30+ - obesity (finding)                                             55968\n",
      "185086009        Chronic obstructive bronchitis (disorder)                                            2461\n",
      "190905008        Cystic Fibrosis                                                                        38\n",
      "192127007        Child attention deficit disorder                                                       47\n",
      "195662009        Acute viral pharyngitis (disorder)                                                   7890\n",
      "195967001        Asthma                                                                                229\n",
      "196416002        Impacted molars                                                                      6684\n",
      "197927001        Recurrent urinary tract infection                                                    1333\n",
      "198992004        Antepartum eclampsia                                                                  223\n",
      "200936003        Lupus erythematosus                                                                    15\n",
      "201834006        Localized  primary osteoarthritis of the hand                                        3746\n",
      "206523001        Meconium Ileus                                                                          6\n",
      "225444004        At risk for suicide (finding)                                                         205\n",
      "230265002        Familial Alzheimer's disease of early onset (disorder)                               1191\n",
      "230690007        Stroke                                                                               8553\n",
      "232353008        Perennial allergic rhinitis with seasonal variation                                  1699\n",
      "233604007        Pneumonia                                                                             787\n",
      "                 Pneumonia (disorder)                                                                20402\n",
      "233678006        Childhood asthma                                                                       69\n",
      "234466008        Acquired coagulation disorder (disorder)                                             1987\n",
      "235919008        Cholelithiasis                                                                         50\n",
      "236077008        Protracted diarrhea                                                                   705\n",
      "237602007        Metabolic syndrome X (disorder)                                                     23174\n",
      "239720000        Tear of meniscus of knee                                                               67\n",
      "239872002        Osteoarthritis of hip                                                                3320\n",
      "239873007        Osteoarthritis of knee                                                               9111\n",
      "241929008        Acute allergic reaction                                                                41\n",
      "246677007        Passive conjunctival congestion (finding)                                             790\n",
      "248595008        Sputum finding (finding)                                                            25665\n",
      "249497008        Vomiting symptom (finding)                                                           3895\n",
      "254632001        Small cell carcinoma of lung (disorder)                                              1411\n",
      "254637007        Non-small cell lung cancer (disorder)                                                8185\n",
      "254837009        Malignant neoplasm of breast (disorder)                                              3261\n",
      "262574004        Bullet wound                                                                          662\n",
      "263102004        Fracture subluxation of wrist                                                         479\n",
      "267036007        Dyspnea (finding)                                                                   15962\n",
      "267060006        Diarrhea symptom (finding)                                                           3063\n",
      "267102003        Sore throat symptom (finding)                                                       10375\n",
      "271737000        Anemia (disorder)                                                                   54504\n",
      "271825005        Respiratory distress (finding)                                                      20402\n",
      "275272006        Brain damage - traumatic                                                              897\n",
      "283371005        Laceration of forearm                                                                 388\n",
      "283385000        Laceration of thigh                                                                   379\n",
      "284549007        Laceration of hand                                                                    370\n",
      "284551006        Laceration of foot                                                                    365\n",
      "287185009        Attempted suicide - cut/stab                                                            1\n",
      "301011002        Escherichia coli urinary tract infection                                              366\n",
      "302870006        Hypertriglyceridemia (disorder)                                                     23381\n",
      "307731004        Injury of tendon of the rotator cuff of shoulder                                      195\n",
      "314994000        Metastasis from malignant tumor of prostate (disorder)                               3242\n",
      "359817006        Closed fracture of hip                                                                233\n",
      "363406005        Malignant tumor of colon                                                              946\n",
      "367498001        Seasonal allergic rhinitis                                                            950\n",
      "370143000        Major depression disorder                                                           15410\n",
      "370247008        Facial laceration                                                                     383\n",
      "386661006        Fever (finding)                                                                     67219\n",
      "389087006        Hypoxemia (disorder)                                                                20402\n",
      "398254007        Preeclampsia                                                                          262\n",
      "399211009        History of myocardial infarction (situation)                                         3698\n",
      "403190006        First degree burn                                                                     279\n",
      "403191005        Second degree burn                                                                    188\n",
      "403192003        Third degree burn                                                                      22\n",
      "406602003        Infection caused by Staphylococcus aureus                                              14\n",
      "408512008        Body mass index 40+ - severely obese (finding)                                       1312\n",
      "410429000        Cardiac Arrest                                                                       5760\n",
      "422034002        Diabetic retinopathy associated with type II diabetes mellitus (disorder)            3838\n",
      "422587007        Nausea (finding)                                                                     3895\n",
      "424132000        Non-small cell carcinoma of lung  TNM stage 1 (disorder)                             8183\n",
      "425048006        Non-small cell carcinoma of lung  TNM stage 2 (disorder)                                2\n",
      "427089005        Diabetes from Cystic Fibrosis                                                          15\n",
      "                 Male Infertility                                                                       22\n",
      "428251008        History of appendectomy                                                              6976\n",
      "429007001        History of cardiac arrest (situation)                                                5760\n",
      "429280009        History of amputation of foot (situation)                                              48\n",
      "431855005        Chronic kidney disease stage 1 (disorder)                                           18219\n",
      "431856006        Chronic kidney disease stage 2 (disorder)                                            2824\n",
      "433144002        Chronic kidney disease stage 3 (disorder)                                             132\n",
      "443165006        Pathological fracture due to osteoporosis (disorder)                                  550\n",
      "444448004        Injury of medial collateral ligament of knee                                          101\n",
      "444470001        Injury of anterior cruciate ligament                                                   77\n",
      "444814009        Viral sinusitis (disorder)                                                          15808\n",
      "446096008        Perennial allergic rhinitis                                                          1803\n",
      "448417001        Sepsis caused by Staphylococcus aureus                                                  7\n",
      "448813005        Sepsis caused by Pseudomonas (disorder)                                                12\n",
      "449868002        Smokes tobacco daily                                                                18657\n",
      "698423002        History of disarticulation at wrist (situation)                                         3\n",
      "698754002        Chronic paralysis due to lesion of spinal cord                                        154\n",
      "703151001        History of single seizure (situation)                                                4915\n",
      "706870000        Acute pulmonary embolism (disorder)                                                  6700\n",
      "707577004        Female Infertility                                                                     16\n",
      "713197008        Recurrent rectal polyp                                                               3642\n",
      "770349000        Sepsis caused by virus (disorder)                                                    8893\n",
      "840539006        COVID-19                                                                            73697\n",
      "840544004        Suspected COVID-19                                                                  75427\n",
      "1501000119109    Proliferative diabetic retinopathy due to type II diabetes mellitus (disorder)        241\n",
      "1551000119108    Nonproliferative diabetic retinopathy due to type 2 diabetes mellitus (disorder)     1560\n",
      "60951000119105   Blindness due to type 2 diabetes mellitus (disorder)                                   12\n",
      "67811000119102   Primary small cell malignant neoplasm of lung  TNM stage 1 (disorder)                1411\n",
      "90781000119102   Microalbuminuria due to type 2 diabetes mellitus (disorder)                          2912\n",
      "97331000119101   Macular edema and retinopathy due to type 2 diabetes mellitus (disorder)              346\n",
      "124171000119105  Chronic intractable migraine without aura                                            6703\n",
      "132281000119108  Acute deep venous thrombosis (disorder)                                              6694\n",
      "157141000119108  Proteinuria due to type 2 diabetes mellitus (disorder)                                132\n",
      "368581000119106  Neuropathy due to type 2 diabetes mellitus (disorder)                                5323\n",
      "Name: PATIENT, dtype: int64\n"
     ]
    }
   ],
   "source": [
    "groupby_conditions_code = conditions_df.groupby(['CODE', 'DESCRIPTION'])['PATIENT'].count()\n",
    "pd.set_option('display.max_rows', 236)\n",
    "print(groupby_conditions_code)"
   ]
  },
  {
   "cell_type": "code",
   "execution_count": 13,
   "metadata": {},
   "outputs": [
    {
     "data": {
      "text/plain": [
       "(192,)"
      ]
     },
     "execution_count": 13,
     "metadata": {},
     "output_type": "execute_result"
    }
   ],
   "source": [
    "groupby_conditions_code.shape"
   ]
  },
  {
   "cell_type": "markdown",
   "metadata": {},
   "source": [
    "#### Create subset containing patients with diabetes "
   ]
  },
  {
   "cell_type": "code",
   "execution_count": 13,
   "metadata": {},
   "outputs": [],
   "source": [
    "diabetes_status_df = conditions_df.loc[(conditions_df['CODE'] == 44054006)]"
   ]
  },
  {
   "cell_type": "markdown",
   "metadata": {},
   "source": [
    "#### Merge Conditions DESCRIPTION column with covid patient data"
   ]
  },
  {
   "cell_type": "code",
   "execution_count": 14,
   "metadata": {},
   "outputs": [],
   "source": [
    "covid19_patients_df = pd.merge(covid19_patients_df, diabetes_status_df[['DESCRIPTION', 'PATIENT']], how='left', left_on='Id', right_on='PATIENT')\n",
    "covid19_patients_df.drop(columns='PATIENT', inplace = True)"
   ]
  },
  {
   "cell_type": "code",
   "execution_count": 15,
   "metadata": {},
   "outputs": [
    {
     "data": {
      "text/plain": [
       "DEATHDATE           70473\n",
       "DESCRIPTION         67353\n",
       "MARITAL              6604\n",
       "DAYSHOSPITALIZED        0\n",
       "AGE                     0\n",
       "SURVIVAL                0\n",
       "GENDER                  0\n",
       "ETHNICITY               0\n",
       "RACE                    0\n",
       "BIRTHDATE               0\n",
       "Id                      0\n",
       "dtype: int64"
      ]
     },
     "execution_count": 15,
     "metadata": {},
     "output_type": "execute_result"
    }
   ],
   "source": [
    "covid19_patients_df.isnull().sum().sort_values(ascending = False)"
   ]
  },
  {
   "cell_type": "code",
   "execution_count": 16,
   "metadata": {},
   "outputs": [
    {
     "data": {
      "text/plain": [
       "Diabetes    17807\n",
       "Name: DESCRIPTION, dtype: int64"
      ]
     },
     "execution_count": 16,
     "metadata": {},
     "output_type": "execute_result"
    }
   ],
   "source": [
    "covid19_patients_df.DESCRIPTION.value_counts()"
   ]
  },
  {
   "cell_type": "code",
   "execution_count": 17,
   "metadata": {},
   "outputs": [
    {
     "data": {
      "text/plain": [
       "(85160, 11)"
      ]
     },
     "execution_count": 17,
     "metadata": {},
     "output_type": "execute_result"
    }
   ],
   "source": [
    "covid19_patients_df.shape"
   ]
  },
  {
   "cell_type": "markdown",
   "metadata": {},
   "source": [
    "#### Add column to covid19_patients_df to track patients who have Diabetes: '1' = Diabetes, '0' = Does Not have Diabetes"
   ]
  },
  {
   "cell_type": "code",
   "execution_count": 18,
   "metadata": {},
   "outputs": [],
   "source": [
    "covid19_patients_df[\"DIABETES\"] = covid19_patients_df[\"DESCRIPTION\"].apply(lambda x: 0 if pd.isnull(x) else 1)"
   ]
  },
  {
   "cell_type": "markdown",
   "metadata": {},
   "source": [
    "# Preparing dataframe for Logistic model"
   ]
  },
  {
   "cell_type": "code",
   "execution_count": 19,
   "metadata": {},
   "outputs": [
    {
     "name": "stdout",
     "output_type": "stream",
     "text": [
      "<class 'pandas.core.frame.DataFrame'>\n",
      "Int64Index: 85160 entries, 0 to 85159\n",
      "Data columns (total 12 columns):\n",
      "Id                  85160 non-null object\n",
      "BIRTHDATE           85160 non-null object\n",
      "DEATHDATE           14687 non-null object\n",
      "MARITAL             78556 non-null object\n",
      "RACE                85160 non-null object\n",
      "ETHNICITY           85160 non-null object\n",
      "GENDER              85160 non-null object\n",
      "SURVIVAL            85160 non-null int64\n",
      "AGE                 85160 non-null int64\n",
      "DAYSHOSPITALIZED    85160 non-null float64\n",
      "DESCRIPTION         17807 non-null object\n",
      "DIABETES            85160 non-null int64\n",
      "dtypes: float64(1), int64(3), object(8)\n",
      "memory usage: 8.4+ MB\n"
     ]
    }
   ],
   "source": [
    "covid19_patients_df.info()"
   ]
  },
  {
   "cell_type": "code",
   "execution_count": 20,
   "metadata": {},
   "outputs": [],
   "source": [
    "# Convert 'GENDER' variable to integer form!\n",
    "covid19_patients_df.loc[(covid19_patients_df.GENDER == \"M\"),'GENDER'] = 0\n",
    "covid19_patients_df.loc[(covid19_patients_df.GENDER == \"F\"),'GENDER'] = 1\n",
    "\n",
    "# Convert 'ETHNICITY' variable to integer form!\n",
    "covid19_patients_df.loc[(covid19_patients_df.ETHNICITY == \"nonhispanic\"),'ETHNICITY'] = 0\n",
    "covid19_patients_df.loc[(covid19_patients_df.ETHNICITY == \"hispanic\"),'ETHNICITY'] = 1\n",
    "\n",
    "# Convert 'RACE' variable to integer form!\n",
    "covid19_patients_df.loc[(covid19_patients_df.RACE == \"white\"),'RACE'] = 1\n",
    "covid19_patients_df.loc[(covid19_patients_df.RACE == \"black\"),'RACE'] = 2\n",
    "covid19_patients_df.loc[(covid19_patients_df.RACE == \"asian\"),'RACE'] = 3\n",
    "covid19_patients_df.loc[(covid19_patients_df.RACE == \"other\"),'RACE'] = 4\n",
    "covid19_patients_df.loc[(covid19_patients_df.RACE == \"native\"),'RACE'] = 5"
   ]
  },
  {
   "cell_type": "code",
   "execution_count": 21,
   "metadata": {},
   "outputs": [
    {
     "name": "stdout",
     "output_type": "stream",
     "text": [
      "<class 'pandas.core.frame.DataFrame'>\n",
      "Int64Index: 85160 entries, 0 to 85159\n",
      "Data columns (total 12 columns):\n",
      "Id                  85160 non-null object\n",
      "BIRTHDATE           85160 non-null object\n",
      "DEATHDATE           14687 non-null object\n",
      "MARITAL             78556 non-null object\n",
      "RACE                85160 non-null int64\n",
      "ETHNICITY           85160 non-null int64\n",
      "GENDER              85160 non-null int64\n",
      "SURVIVAL            85160 non-null int64\n",
      "AGE                 85160 non-null int64\n",
      "DAYSHOSPITALIZED    85160 non-null float64\n",
      "DESCRIPTION         17807 non-null object\n",
      "DIABETES            85160 non-null int64\n",
      "dtypes: float64(1), int64(6), object(5)\n",
      "memory usage: 8.4+ MB\n"
     ]
    }
   ],
   "source": [
    "covid19_patients_df.info()"
   ]
  },
  {
   "cell_type": "code",
   "execution_count": 22,
   "metadata": {},
   "outputs": [],
   "source": [
    "# We'll drop the following features for now, but more to follow...\n",
    "covid19_patients_df.drop(['MARITAL', 'DESCRIPTION'], axis = 1, inplace = True)"
   ]
  },
  {
   "cell_type": "code",
   "execution_count": 23,
   "metadata": {},
   "outputs": [],
   "source": [
    "# We'll also drop the following features\n",
    "covid19_patients_df.drop(['Id', 'BIRTHDATE', 'DEATHDATE'], axis = 1, inplace = True)"
   ]
  },
  {
   "cell_type": "markdown",
   "metadata": {},
   "source": [
    "# Running Logistics model based on the following columns"
   ]
  },
  {
   "cell_type": "code",
   "execution_count": 24,
   "metadata": {},
   "outputs": [
    {
     "name": "stdout",
     "output_type": "stream",
     "text": [
      "<class 'pandas.core.frame.DataFrame'>\n",
      "Int64Index: 85160 entries, 0 to 85159\n",
      "Data columns (total 7 columns):\n",
      "RACE                85160 non-null int64\n",
      "ETHNICITY           85160 non-null int64\n",
      "GENDER              85160 non-null int64\n",
      "SURVIVAL            85160 non-null int64\n",
      "AGE                 85160 non-null int64\n",
      "DAYSHOSPITALIZED    85160 non-null float64\n",
      "DIABETES            85160 non-null int64\n",
      "dtypes: float64(1), int64(6)\n",
      "memory usage: 5.2 MB\n"
     ]
    }
   ],
   "source": [
    "covid19_patients_df.info()"
   ]
  },
  {
   "cell_type": "code",
   "execution_count": 25,
   "metadata": {},
   "outputs": [],
   "source": [
    "from sklearn.model_selection import train_test_split\n",
    "X_train, X_test, y_train, y_test = train_test_split(covid19_patients_df.drop(['SURVIVAL'], axis = 1), \n",
    "                                                    covid19_patients_df['SURVIVAL'], test_size = 0.4, \n",
    "                                                    random_state = 2)"
   ]
  },
  {
   "cell_type": "code",
   "execution_count": 26,
   "metadata": {},
   "outputs": [
    {
     "name": "stdout",
     "output_type": "stream",
     "text": [
      "<class 'pandas.core.frame.DataFrame'>\n",
      "Int64Index: 51096 entries, 57465 to 72173\n",
      "Data columns (total 6 columns):\n",
      "RACE                51096 non-null int64\n",
      "ETHNICITY           51096 non-null int64\n",
      "GENDER              51096 non-null int64\n",
      "AGE                 51096 non-null int64\n",
      "DAYSHOSPITALIZED    51096 non-null float64\n",
      "DIABETES            51096 non-null int64\n",
      "dtypes: float64(1), int64(5)\n",
      "memory usage: 2.7 MB\n"
     ]
    }
   ],
   "source": [
    "X_train.info()"
   ]
  },
  {
   "cell_type": "code",
   "execution_count": 27,
   "metadata": {},
   "outputs": [
    {
     "data": {
      "text/plain": [
       "(51096, 6)"
      ]
     },
     "execution_count": 27,
     "metadata": {},
     "output_type": "execute_result"
    }
   ],
   "source": [
    "X_train.shape"
   ]
  },
  {
   "cell_type": "code",
   "execution_count": 28,
   "metadata": {},
   "outputs": [
    {
     "data": {
      "text/plain": [
       "pandas.core.series.Series"
      ]
     },
     "execution_count": 28,
     "metadata": {},
     "output_type": "execute_result"
    }
   ],
   "source": [
    "type(y_train)"
   ]
  },
  {
   "cell_type": "code",
   "execution_count": 29,
   "metadata": {},
   "outputs": [
    {
     "data": {
      "text/plain": [
       "57465    1\n",
       "21187    1\n",
       "39621    1\n",
       "25422    1\n",
       "7441     1\n",
       "        ..\n",
       "33867    1\n",
       "84434    0\n",
       "31019    1\n",
       "44566    0\n",
       "72173    1\n",
       "Name: SURVIVAL, Length: 51096, dtype: int64"
      ]
     },
     "execution_count": 29,
     "metadata": {},
     "output_type": "execute_result"
    }
   ],
   "source": [
    "y_train"
   ]
  },
  {
   "cell_type": "code",
   "execution_count": 30,
   "metadata": {},
   "outputs": [
    {
     "name": "stderr",
     "output_type": "stream",
     "text": [
      "C:\\ProgramData\\Anaconda3\\lib\\site-packages\\sklearn\\linear_model\\logistic.py:432: FutureWarning: Default solver will be changed to 'lbfgs' in 0.22. Specify a solver to silence this warning.\n",
      "  FutureWarning)\n"
     ]
    },
    {
     "data": {
      "text/plain": [
       "LogisticRegression(C=1.0, class_weight=None, dual=False, fit_intercept=True,\n",
       "                   intercept_scaling=1, l1_ratio=None, max_iter=10000,\n",
       "                   multi_class='warn', n_jobs=None, penalty='l2',\n",
       "                   random_state=None, solver='warn', tol=0.0001, verbose=0,\n",
       "                   warm_start=False)"
      ]
     },
     "execution_count": 30,
     "metadata": {},
     "output_type": "execute_result"
    }
   ],
   "source": [
    "from sklearn.linear_model import LogisticRegression\n",
    "logisticRegression = LogisticRegression(max_iter = 10000)\n",
    "logisticRegression.fit(X_train, y_train)"
   ]
  },
  {
   "cell_type": "code",
   "execution_count": 31,
   "metadata": {},
   "outputs": [],
   "source": [
    "# Predict!\n",
    "predictions = logisticRegression.predict(X_test)"
   ]
  },
  {
   "cell_type": "code",
   "execution_count": 32,
   "metadata": {},
   "outputs": [
    {
     "name": "stdout",
     "output_type": "stream",
     "text": [
      "[[  554  5300]\n",
      " [  420 27790]]\n"
     ]
    }
   ],
   "source": [
    "from sklearn.metrics import confusion_matrix\n",
    "\n",
    "print(confusion_matrix(y_test, predictions))"
   ]
  },
  {
   "cell_type": "code",
   "execution_count": 33,
   "metadata": {},
   "outputs": [
    {
     "name": "stdout",
     "output_type": "stream",
     "text": [
      "accuracy is: 0.83\n"
     ]
    }
   ],
   "source": [
    "accuracy = (554 + 27790) / (554 + 5300 + 420 + 27790)\n",
    "print('accuracy is: ' + str(round(accuracy, 2)))"
   ]
  },
  {
   "cell_type": "code",
   "execution_count": 34,
   "metadata": {},
   "outputs": [
    {
     "name": "stdout",
     "output_type": "stream",
     "text": [
      "<class 'pandas.core.frame.DataFrame'>\n",
      "Int64Index: 34064 entries, 77515 to 25384\n",
      "Data columns (total 6 columns):\n",
      "RACE                34064 non-null int64\n",
      "ETHNICITY           34064 non-null int64\n",
      "GENDER              34064 non-null int64\n",
      "AGE                 34064 non-null int64\n",
      "DAYSHOSPITALIZED    34064 non-null float64\n",
      "DIABETES            34064 non-null int64\n",
      "dtypes: float64(1), int64(5)\n",
      "memory usage: 1.8 MB\n"
     ]
    }
   ],
   "source": [
    "X_test.info()"
   ]
  },
  {
   "cell_type": "code",
   "execution_count": 35,
   "metadata": {},
   "outputs": [
    {
     "data": {
      "text/plain": [
       "array([[ 0.001671  , -0.08476004,  0.39892351, -0.07203332, -0.02223663,\n",
       "        -0.38689691]])"
      ]
     },
     "execution_count": 35,
     "metadata": {},
     "output_type": "execute_result"
    }
   ],
   "source": [
    "logisticRegression.coef_"
   ]
  },
  {
   "cell_type": "code",
   "execution_count": 36,
   "metadata": {},
   "outputs": [
    {
     "name": "stdout",
     "output_type": "stream",
     "text": [
      "              precision    recall  f1-score   support\n",
      "\n",
      "           0       0.57      0.09      0.16      5854\n",
      "           1       0.84      0.99      0.91     28210\n",
      "\n",
      "    accuracy                           0.83     34064\n",
      "   macro avg       0.70      0.54      0.53     34064\n",
      "weighted avg       0.79      0.83      0.78     34064\n",
      "\n"
     ]
    }
   ],
   "source": [
    "from sklearn.metrics import classification_report\n",
    "print(classification_report(y_test, predictions))"
   ]
  },
  {
   "cell_type": "code",
   "execution_count": 37,
   "metadata": {},
   "outputs": [],
   "source": [
    "# SVC - Support Vector Classifier\n",
    "from sklearn.svm import SVC\n",
    "\n",
    "# X_train, X_test, y_train, y_test = train_test_split(covid19_patients_df.drop(['SURVIVAL'], axis = 1), \n",
    "#                                                     covid19_patients_df['SURVIVAL'], random_state = 0)"
   ]
  },
  {
   "cell_type": "code",
   "execution_count": 38,
   "metadata": {},
   "outputs": [],
   "source": [
    "svm = SVC(C=100, gamma='auto')"
   ]
  },
  {
   "cell_type": "code",
   "execution_count": 40,
   "metadata": {},
   "outputs": [
    {
     "name": "stdout",
     "output_type": "stream",
     "text": [
      "Test set accuracy: 0.90\n"
     ]
    }
   ],
   "source": [
    "svm.fit(X_train, y_train)\n",
    "print(\"Test set accuracy: {:.2f}\".format(svm.score(X_test, y_test)))"
   ]
  },
  {
   "cell_type": "code",
   "execution_count": 41,
   "metadata": {},
   "outputs": [
    {
     "name": "stdout",
     "output_type": "stream",
     "text": [
      "Scaled test set accuracy: 0.90\n"
     ]
    }
   ],
   "source": [
    "from sklearn.preprocessing import MinMaxScaler\n",
    "\n",
    "# preprocessing using 0-1 scaling\n",
    "scaler = MinMaxScaler()\n",
    "scaler.fit(X_train)\n",
    "X_train_scaled = scaler.transform(X_train)\n",
    "X_test_scaled = scaler.transform(X_test)\n",
    "\n",
    "# learning an SVM on the scaled training data\n",
    "svm.fit(X_train_scaled, y_train)\n",
    "\n",
    "# scoring on the scaled test set\n",
    "print(\"Scaled test set accuracy: {:.2f}\".format(\n",
    "    svm.score(X_test_scaled, y_test)))"
   ]
  },
  {
   "cell_type": "code",
   "execution_count": 42,
   "metadata": {},
   "outputs": [
    {
     "name": "stdout",
     "output_type": "stream",
     "text": [
      "SVM test accuracy: 0.90\n"
     ]
    }
   ],
   "source": [
    "# preprocessing using zero mean and unit variance scaling/ compressing the data\n",
    "from sklearn.preprocessing import StandardScaler\n",
    "scaler = StandardScaler()\n",
    "scaler.fit(X_train)\n",
    "X_train_scaled = scaler.transform(X_train)\n",
    "X_test_scaled = scaler.transform(X_test)\n",
    "\n",
    "# learning an SVM on the scaled training data\n",
    "svm.fit(X_train_scaled, y_train)\n",
    "\n",
    "# scoring on the scaled test set\n",
    "print(\"SVM test accuracy: {:.2f}\".format(svm.score(X_test_scaled, y_test)))"
   ]
  },
  {
   "cell_type": "code",
   "execution_count": 39,
   "metadata": {},
   "outputs": [],
   "source": [
    "y = covid19_patients_df['SURVIVAL']\n",
    "X = covid19_patients_df.drop(['SURVIVAL'], axis = 1)"
   ]
  },
  {
   "cell_type": "code",
   "execution_count": 40,
   "metadata": {},
   "outputs": [
    {
     "data": {
      "text/plain": [
       "0        1\n",
       "1        1\n",
       "2        1\n",
       "3        1\n",
       "4        1\n",
       "        ..\n",
       "85155    0\n",
       "85156    0\n",
       "85157    0\n",
       "85158    1\n",
       "85159    1\n",
       "Name: SURVIVAL, Length: 85160, dtype: int64"
      ]
     },
     "execution_count": 40,
     "metadata": {},
     "output_type": "execute_result"
    }
   ],
   "source": [
    "y"
   ]
  },
  {
   "cell_type": "code",
   "execution_count": 41,
   "metadata": {},
   "outputs": [
    {
     "data": {
      "text/html": [
       "<div>\n",
       "<style scoped>\n",
       "    .dataframe tbody tr th:only-of-type {\n",
       "        vertical-align: middle;\n",
       "    }\n",
       "\n",
       "    .dataframe tbody tr th {\n",
       "        vertical-align: top;\n",
       "    }\n",
       "\n",
       "    .dataframe thead th {\n",
       "        text-align: right;\n",
       "    }\n",
       "</style>\n",
       "<table border=\"1\" class=\"dataframe\">\n",
       "  <thead>\n",
       "    <tr style=\"text-align: right;\">\n",
       "      <th></th>\n",
       "      <th>RACE</th>\n",
       "      <th>ETHNICITY</th>\n",
       "      <th>GENDER</th>\n",
       "      <th>AGE</th>\n",
       "      <th>DAYSHOSPITALIZED</th>\n",
       "      <th>DIABETES</th>\n",
       "    </tr>\n",
       "  </thead>\n",
       "  <tbody>\n",
       "    <tr>\n",
       "      <td>0</td>\n",
       "      <td>1</td>\n",
       "      <td>0</td>\n",
       "      <td>1</td>\n",
       "      <td>42</td>\n",
       "      <td>0.0</td>\n",
       "      <td>0</td>\n",
       "    </tr>\n",
       "    <tr>\n",
       "      <td>1</td>\n",
       "      <td>1</td>\n",
       "      <td>0</td>\n",
       "      <td>0</td>\n",
       "      <td>30</td>\n",
       "      <td>17.0</td>\n",
       "      <td>0</td>\n",
       "    </tr>\n",
       "    <tr>\n",
       "      <td>2</td>\n",
       "      <td>1</td>\n",
       "      <td>0</td>\n",
       "      <td>1</td>\n",
       "      <td>36</td>\n",
       "      <td>20.0</td>\n",
       "      <td>1</td>\n",
       "    </tr>\n",
       "    <tr>\n",
       "      <td>3</td>\n",
       "      <td>2</td>\n",
       "      <td>0</td>\n",
       "      <td>0</td>\n",
       "      <td>24</td>\n",
       "      <td>0.0</td>\n",
       "      <td>0</td>\n",
       "    </tr>\n",
       "    <tr>\n",
       "      <td>4</td>\n",
       "      <td>1</td>\n",
       "      <td>1</td>\n",
       "      <td>1</td>\n",
       "      <td>60</td>\n",
       "      <td>0.0</td>\n",
       "      <td>0</td>\n",
       "    </tr>\n",
       "    <tr>\n",
       "      <td>...</td>\n",
       "      <td>...</td>\n",
       "      <td>...</td>\n",
       "      <td>...</td>\n",
       "      <td>...</td>\n",
       "      <td>...</td>\n",
       "      <td>...</td>\n",
       "    </tr>\n",
       "    <tr>\n",
       "      <td>85155</td>\n",
       "      <td>1</td>\n",
       "      <td>0</td>\n",
       "      <td>0</td>\n",
       "      <td>56</td>\n",
       "      <td>7.0</td>\n",
       "      <td>1</td>\n",
       "    </tr>\n",
       "    <tr>\n",
       "      <td>85156</td>\n",
       "      <td>1</td>\n",
       "      <td>0</td>\n",
       "      <td>0</td>\n",
       "      <td>56</td>\n",
       "      <td>3.0</td>\n",
       "      <td>1</td>\n",
       "    </tr>\n",
       "    <tr>\n",
       "      <td>85157</td>\n",
       "      <td>1</td>\n",
       "      <td>0</td>\n",
       "      <td>0</td>\n",
       "      <td>56</td>\n",
       "      <td>0.0</td>\n",
       "      <td>1</td>\n",
       "    </tr>\n",
       "    <tr>\n",
       "      <td>85158</td>\n",
       "      <td>1</td>\n",
       "      <td>0</td>\n",
       "      <td>1</td>\n",
       "      <td>68</td>\n",
       "      <td>0.0</td>\n",
       "      <td>1</td>\n",
       "    </tr>\n",
       "    <tr>\n",
       "      <td>85159</td>\n",
       "      <td>1</td>\n",
       "      <td>0</td>\n",
       "      <td>0</td>\n",
       "      <td>56</td>\n",
       "      <td>0.0</td>\n",
       "      <td>0</td>\n",
       "    </tr>\n",
       "  </tbody>\n",
       "</table>\n",
       "<p>85160 rows × 6 columns</p>\n",
       "</div>"
      ],
      "text/plain": [
       "       RACE  ETHNICITY  GENDER  AGE  DAYSHOSPITALIZED  DIABETES\n",
       "0         1          0       1   42               0.0         0\n",
       "1         1          0       0   30              17.0         0\n",
       "2         1          0       1   36              20.0         1\n",
       "3         2          0       0   24               0.0         0\n",
       "4         1          1       1   60               0.0         0\n",
       "...     ...        ...     ...  ...               ...       ...\n",
       "85155     1          0       0   56               7.0         1\n",
       "85156     1          0       0   56               3.0         1\n",
       "85157     1          0       0   56               0.0         1\n",
       "85158     1          0       1   68               0.0         1\n",
       "85159     1          0       0   56               0.0         0\n",
       "\n",
       "[85160 rows x 6 columns]"
      ]
     },
     "execution_count": 41,
     "metadata": {},
     "output_type": "execute_result"
    }
   ],
   "source": [
    "X"
   ]
  },
  {
   "cell_type": "code",
   "execution_count": 42,
   "metadata": {},
   "outputs": [
    {
     "name": "stdout",
     "output_type": "stream",
     "text": [
      "Cross-Validation Accuracy Scores for Logistic Regression [0.83027442 0.82995737 0.83245262]\n"
     ]
    }
   ],
   "source": [
    "from sklearn.model_selection import cross_val_score\n",
    "\n",
    "from warnings import simplefilter\n",
    "# ignore all future warnings\n",
    "simplefilter(action='ignore', category=FutureWarning)\n",
    "scores = cross_val_score(LogisticRegression(), X, y)\n",
    "print('Cross-Validation Accuracy Scores for Logistic Regression', scores)"
   ]
  },
  {
   "cell_type": "code",
   "execution_count": 43,
   "metadata": {},
   "outputs": [
    {
     "name": "stdout",
     "output_type": "stream",
     "text": [
      "Cross-Validation Accuracy Scores for Logistic Regression [0.83085775 0.83115129 0.82979098 0.83107275 0.83165991]\n"
     ]
    }
   ],
   "source": [
    "scores = cross_val_score(LogisticRegression(), X, y, cv=5)\n",
    "print('Cross-Validation Accuracy Scores for Logistic Regression', scores)"
   ]
  },
  {
   "cell_type": "code",
   "execution_count": 44,
   "metadata": {},
   "outputs": [
    {
     "name": "stdout",
     "output_type": "stream",
     "text": [
      "Cross-Validation Accuracy Scores for Random Forest Classifier [0.89322577 0.89202804 0.89294018]\n"
     ]
    }
   ],
   "source": [
    "from sklearn.ensemble import RandomForestClassifier\n",
    "\n",
    "scores = cross_val_score(RandomForestClassifier(n_estimators=40), X, y)\n",
    "print('Cross-Validation Accuracy Scores for Random Forest Classifier', scores)"
   ]
  },
  {
   "cell_type": "code",
   "execution_count": 45,
   "metadata": {},
   "outputs": [
    {
     "name": "stdout",
     "output_type": "stream",
     "text": [
      "Cross-Validation Accuracy Scores for Random Forest Classifier [0.892486   0.89157008 0.89325724]\n"
     ]
    }
   ],
   "source": [
    "scores = cross_val_score(RandomForestClassifier(n_estimators=15), X, y)\n",
    "print('Cross-Validation Accuracy Scores for Random Forest Classifier', scores)"
   ]
  },
  {
   "cell_type": "code",
   "execution_count": 46,
   "metadata": {},
   "outputs": [
    {
     "name": "stdout",
     "output_type": "stream",
     "text": [
      "Cross-Validation Accuracy Scores for Random Forest Classifier [0.89584923 0.89062408 0.89466886 0.89184428 0.895837  ]\n"
     ]
    }
   ],
   "source": [
    "scores = cross_val_score(RandomForestClassifier(n_estimators=35), X, y, cv=5)\n",
    "print('Cross-Validation Accuracy Scores for Random Forest Classifier', scores)"
   ]
  },
  {
   "cell_type": "code",
   "execution_count": 47,
   "metadata": {},
   "outputs": [
    {
     "name": "stdout",
     "output_type": "stream",
     "text": [
      "Cross-Validation Accuracy Scores for SVM [0.90182126 0.9002008  0.90065525]\n"
     ]
    }
   ],
   "source": [
    "scores = cross_val_score(SVC(), X, y)\n",
    "print('Cross-Validation Accuracy Scores for SVM', scores)"
   ]
  },
  {
   "cell_type": "code",
   "execution_count": 61,
   "metadata": {},
   "outputs": [
    {
     "name": "stdout",
     "output_type": "stream",
     "text": [
      "Cross-Validation Accuracy Scores for SVM [0.90330535 0.89984148 0.89995303 0.89941871 0.90229581]\n"
     ]
    }
   ],
   "source": [
    "scores = cross_val_score(SVC(), X, y, cv=5)\n",
    "print('Cross-Validation Accuracy Scores for SVM', scores)"
   ]
  }
 ],
 "metadata": {
  "kernelspec": {
   "display_name": "Python 3",
   "language": "python",
   "name": "python3"
  },
  "language_info": {
   "codemirror_mode": {
    "name": "ipython",
    "version": 3
   },
   "file_extension": ".py",
   "mimetype": "text/x-python",
   "name": "python",
   "nbconvert_exporter": "python",
   "pygments_lexer": "ipython3",
   "version": "3.7.4"
  }
 },
 "nbformat": 4,
 "nbformat_minor": 2
}
