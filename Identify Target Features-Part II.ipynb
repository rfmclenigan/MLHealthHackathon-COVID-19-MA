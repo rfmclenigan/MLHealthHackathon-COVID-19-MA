{
 "cells": [
  {
   "cell_type": "code",
   "execution_count": 1,
   "metadata": {},
   "outputs": [],
   "source": [
    "import pandas as pd\n",
    "import numpy as np"
   ]
  },
  {
   "cell_type": "markdown",
   "metadata": {},
   "source": [
    "# Observation Data: Contains COVID-19 status"
   ]
  },
  {
   "cell_type": "code",
   "execution_count": 2,
   "metadata": {},
   "outputs": [],
   "source": [
    "observations_df = pd.read_csv('C:\\\\Projects\\\\healthdata\\\\train\\\\observations.csv')"
   ]
  },
  {
   "cell_type": "code",
   "execution_count": 3,
   "metadata": {},
   "outputs": [
    {
     "name": "stdout",
     "output_type": "stream",
     "text": [
      "<class 'pandas.core.frame.DataFrame'>\n",
      "RangeIndex: 20656425 entries, 0 to 20656424\n",
      "Data columns (total 8 columns):\n",
      "DATE           object\n",
      "PATIENT        object\n",
      "ENCOUNTER      object\n",
      "CODE           object\n",
      "DESCRIPTION    object\n",
      "VALUE          object\n",
      "UNITS          object\n",
      "TYPE           object\n",
      "dtypes: object(8)\n",
      "memory usage: 1.2+ GB\n"
     ]
    }
   ],
   "source": [
    "observations_df.info()"
   ]
  },
  {
   "cell_type": "code",
   "execution_count": 4,
   "metadata": {},
   "outputs": [
    {
     "data": {
      "text/plain": [
       "(20656425, 8)"
      ]
     },
     "execution_count": 4,
     "metadata": {},
     "output_type": "execute_result"
    }
   ],
   "source": [
    "observations_df.shape"
   ]
  },
  {
   "cell_type": "markdown",
   "metadata": {},
   "source": [
    "# Creating subsets of observation data based on CODE and VALUE"
   ]
  },
  {
   "cell_type": "code",
   "execution_count": 5,
   "metadata": {},
   "outputs": [],
   "source": [
    "covid19_status_df = observations_df.loc[(observations_df['CODE'] == '94531-1')]"
   ]
  },
  {
   "cell_type": "code",
   "execution_count": 6,
   "metadata": {},
   "outputs": [
    {
     "data": {
      "text/plain": [
       "(105548, 8)"
      ]
     },
     "execution_count": 6,
     "metadata": {},
     "output_type": "execute_result"
    }
   ],
   "source": [
    "covid19_status_df.shape"
   ]
  },
  {
   "cell_type": "code",
   "execution_count": 8,
   "metadata": {},
   "outputs": [
    {
     "data": {
      "image/png": "[encoded data removed]",
      "text/plain": [
       "<Figure size 432x288 with 1 Axes>"
      ]
     },
     "metadata": {},
     "output_type": "display_data"
    }
   ],
   "source": [
    "import seaborn as sns\n",
    "sns.set(style=\"darkgrid\")\n",
    "ax = sns.countplot(x=\"VALUE\", data=covid19_status_df)"
   ]
  },
  {
   "cell_type": "markdown",
   "metadata": {},
   "source": [
    "Subset based on CODE and VALUE of 'Detected'"
   ]
  },
  {
   "cell_type": "code",
   "execution_count": 9,
   "metadata": {},
   "outputs": [],
   "source": [
    "covid19_status2_df = observations_df.loc[(observations_df['CODE'] == '94531-1') & (observations_df['VALUE'].str.contains('Detected'))]"
   ]
  },
  {
   "cell_type": "code",
   "execution_count": 10,
   "metadata": {},
   "outputs": [
    {
     "data": {
      "text/plain": [
       "(73697, 8)"
      ]
     },
     "execution_count": 10,
     "metadata": {},
     "output_type": "execute_result"
    }
   ],
   "source": [
    "covid19_status2_df.shape"
   ]
  },
  {
   "cell_type": "markdown",
   "metadata": {},
   "source": [
    "# Patient Data"
   ]
  },
  {
   "cell_type": "code",
   "execution_count": 11,
   "metadata": {},
   "outputs": [],
   "source": [
    "patients_df = pd.read_csv('C:\\\\Projects\\\\healthdata\\\\train\\\\patients.csv')"
   ]
  },
  {
   "cell_type": "code",
   "execution_count": 12,
   "metadata": {},
   "outputs": [
    {
     "data": {
      "text/plain": [
       "(117959, 25)"
      ]
     },
     "execution_count": 12,
     "metadata": {},
     "output_type": "execute_result"
    }
   ],
   "source": [
    "patients_df.shape"
   ]
  },
  {
   "cell_type": "code",
   "execution_count": 13,
   "metadata": {},
   "outputs": [
    {
     "data": {
      "text/plain": [
       "Index(['Id', 'BIRTHDATE', 'DEATHDATE', 'SSN', 'DRIVERS', 'PASSPORT', 'PREFIX',\n",
       "       'FIRST', 'LAST', 'SUFFIX', 'MAIDEN', 'MARITAL', 'RACE', 'ETHNICITY',\n",
       "       'GENDER', 'BIRTHPLACE', 'ADDRESS', 'CITY', 'STATE', 'COUNTY', 'ZIP',\n",
       "       'LAT', 'LON', 'HEALTHCARE_EXPENSES', 'HEALTHCARE_COVERAGE'],\n",
       "      dtype='object')"
      ]
     },
     "execution_count": 13,
     "metadata": {},
     "output_type": "execute_result"
    }
   ],
   "source": [
    "patients_df.columns"
   ]
  },
  {
   "cell_type": "markdown",
   "metadata": {},
   "source": [
    "# Create subset of patient data that only includes the following columns:\n",
    "    Id, BIRTHDATE, DEATHDATE, MARITAL, RACE, ETHNICITY, GENDER, CITY, STATE, HEALTHCARE_COVERAGE"
   ]
  },
  {
   "cell_type": "code",
   "execution_count": 14,
   "metadata": {},
   "outputs": [],
   "source": [
    "patients_subset_df = pd.DataFrame([patients_df.Id, patients_df.BIRTHDATE, patients_df.DEATHDATE, patients_df.MARITAL, patients_df.RACE, patients_df.ETHNICITY, patients_df.GENDER, patients_df.CITY, patients_df.STATE, patients_df.HEALTHCARE_COVERAGE]).transpose()"
   ]
  },
  {
   "cell_type": "code",
   "execution_count": 15,
   "metadata": {},
   "outputs": [
    {
     "data": {
      "text/plain": [
       "(117959, 10)"
      ]
     },
     "execution_count": 15,
     "metadata": {},
     "output_type": "execute_result"
    }
   ],
   "source": [
    "patients_subset_df.shape"
   ]
  },
  {
   "cell_type": "markdown",
   "metadata": {},
   "source": [
    "# Create another subset of data that only includes COVID-19 patients"
   ]
  },
  {
   "cell_type": "code",
   "execution_count": 16,
   "metadata": {},
   "outputs": [],
   "source": [
    "covid19_patients_df = patients_subset_df.loc[(patients_subset_df['Id'].isin(covid19_status2_df['PATIENT']))]"
   ]
  },
  {
   "cell_type": "code",
   "execution_count": 17,
   "metadata": {},
   "outputs": [
    {
     "data": {
      "text/plain": [
       "(73697, 10)"
      ]
     },
     "execution_count": 17,
     "metadata": {},
     "output_type": "execute_result"
    }
   ],
   "source": [
    "covid19_patients_df.shape"
   ]
  },
  {
   "cell_type": "markdown",
   "metadata": {},
   "source": [
    "# Look at different groupings of data using plots."
   ]
  },
  {
   "cell_type": "code",
   "execution_count": 18,
   "metadata": {},
   "outputs": [
    {
     "data": {
      "image/png": "[encoded data removed]",
      "text/plain": [
       "<Figure size 432x288 with 1 Axes>"
      ]
     },
     "metadata": {},
     "output_type": "display_data"
    }
   ],
   "source": [
    "sns.set(style=\"darkgrid\")\n",
    "ax = sns.countplot(x=\"ETHNICITY\", data=covid19_patients_df)"
   ]
  },
  {
   "cell_type": "code",
   "execution_count": 19,
   "metadata": {},
   "outputs": [
    {
     "data": {
      "image/png": "[encoded data removed]",
      "text/plain": [
       "<Figure size 432x288 with 1 Axes>"
      ]
     },
     "metadata": {},
     "output_type": "display_data"
    }
   ],
   "source": [
    "sns.set(style=\"darkgrid\")\n",
    "ax = sns.countplot(x=\"RACE\", data=covid19_patients_df)"
   ]
  },
  {
   "cell_type": "code",
   "execution_count": 20,
   "metadata": {},
   "outputs": [
    {
     "data": {
      "image/png": "[encoded data removed]",
      "text/plain": [
       "<Figure size 432x288 with 1 Axes>"
      ]
     },
     "metadata": {},
     "output_type": "display_data"
    }
   ],
   "source": [
    "ax = sns.countplot(x=\"RACE\", hue = \"MARITAL\", data=covid19_patients_df)"
   ]
  },
  {
   "cell_type": "code",
   "execution_count": 21,
   "metadata": {},
   "outputs": [
    {
     "data": {
      "text/html": [
       "<div>\n",
       "<style scoped>\n",
       "    .dataframe tbody tr th:only-of-type {\n",
       "        vertical-align: middle;\n",
       "    }\n",
       "\n",
       "    .dataframe tbody tr th {\n",
       "        vertical-align: top;\n",
       "    }\n",
       "\n",
       "    .dataframe thead th {\n",
       "        text-align: right;\n",
       "    }\n",
       "</style>\n",
       "<table border=\"1\" class=\"dataframe\">\n",
       "  <thead>\n",
       "    <tr style=\"text-align: right;\">\n",
       "      <th></th>\n",
       "      <th>Id</th>\n",
       "      <th>BIRTHDATE</th>\n",
       "      <th>DEATHDATE</th>\n",
       "      <th>MARITAL</th>\n",
       "      <th>RACE</th>\n",
       "      <th>ETHNICITY</th>\n",
       "      <th>GENDER</th>\n",
       "      <th>CITY</th>\n",
       "      <th>STATE</th>\n",
       "    </tr>\n",
       "    <tr>\n",
       "      <th>HEALTHCARE_COVERAGE</th>\n",
       "      <th></th>\n",
       "      <th></th>\n",
       "      <th></th>\n",
       "      <th></th>\n",
       "      <th></th>\n",
       "      <th></th>\n",
       "      <th></th>\n",
       "      <th></th>\n",
       "      <th></th>\n",
       "    </tr>\n",
       "  </thead>\n",
       "  <tbody>\n",
       "    <tr>\n",
       "      <td>0.00</td>\n",
       "      <td>1606</td>\n",
       "      <td>1606</td>\n",
       "      <td>52</td>\n",
       "      <td>1327</td>\n",
       "      <td>1606</td>\n",
       "      <td>1606</td>\n",
       "      <td>1606</td>\n",
       "      <td>1606</td>\n",
       "      <td>1606</td>\n",
       "    </tr>\n",
       "    <tr>\n",
       "      <td>49.16</td>\n",
       "      <td>1</td>\n",
       "      <td>1</td>\n",
       "      <td>0</td>\n",
       "      <td>0</td>\n",
       "      <td>1</td>\n",
       "      <td>1</td>\n",
       "      <td>1</td>\n",
       "      <td>1</td>\n",
       "      <td>1</td>\n",
       "    </tr>\n",
       "    <tr>\n",
       "      <td>69.16</td>\n",
       "      <td>13</td>\n",
       "      <td>13</td>\n",
       "      <td>1</td>\n",
       "      <td>12</td>\n",
       "      <td>13</td>\n",
       "      <td>13</td>\n",
       "      <td>13</td>\n",
       "      <td>13</td>\n",
       "      <td>13</td>\n",
       "    </tr>\n",
       "    <tr>\n",
       "      <td>89.16</td>\n",
       "      <td>4</td>\n",
       "      <td>4</td>\n",
       "      <td>0</td>\n",
       "      <td>4</td>\n",
       "      <td>4</td>\n",
       "      <td>4</td>\n",
       "      <td>4</td>\n",
       "      <td>4</td>\n",
       "      <td>4</td>\n",
       "    </tr>\n",
       "    <tr>\n",
       "      <td>98.32</td>\n",
       "      <td>1</td>\n",
       "      <td>1</td>\n",
       "      <td>0</td>\n",
       "      <td>1</td>\n",
       "      <td>1</td>\n",
       "      <td>1</td>\n",
       "      <td>1</td>\n",
       "      <td>1</td>\n",
       "      <td>1</td>\n",
       "    </tr>\n",
       "    <tr>\n",
       "      <td>...</td>\n",
       "      <td>...</td>\n",
       "      <td>...</td>\n",
       "      <td>...</td>\n",
       "      <td>...</td>\n",
       "      <td>...</td>\n",
       "      <td>...</td>\n",
       "      <td>...</td>\n",
       "      <td>...</td>\n",
       "      <td>...</td>\n",
       "    </tr>\n",
       "    <tr>\n",
       "      <td>1354660.73</td>\n",
       "      <td>1</td>\n",
       "      <td>1</td>\n",
       "      <td>0</td>\n",
       "      <td>1</td>\n",
       "      <td>1</td>\n",
       "      <td>1</td>\n",
       "      <td>1</td>\n",
       "      <td>1</td>\n",
       "      <td>1</td>\n",
       "    </tr>\n",
       "    <tr>\n",
       "      <td>1360456.77</td>\n",
       "      <td>1</td>\n",
       "      <td>1</td>\n",
       "      <td>0</td>\n",
       "      <td>1</td>\n",
       "      <td>1</td>\n",
       "      <td>1</td>\n",
       "      <td>1</td>\n",
       "      <td>1</td>\n",
       "      <td>1</td>\n",
       "    </tr>\n",
       "    <tr>\n",
       "      <td>1367572.64</td>\n",
       "      <td>1</td>\n",
       "      <td>1</td>\n",
       "      <td>1</td>\n",
       "      <td>1</td>\n",
       "      <td>1</td>\n",
       "      <td>1</td>\n",
       "      <td>1</td>\n",
       "      <td>1</td>\n",
       "      <td>1</td>\n",
       "    </tr>\n",
       "    <tr>\n",
       "      <td>1465584.80</td>\n",
       "      <td>1</td>\n",
       "      <td>1</td>\n",
       "      <td>1</td>\n",
       "      <td>1</td>\n",
       "      <td>1</td>\n",
       "      <td>1</td>\n",
       "      <td>1</td>\n",
       "      <td>1</td>\n",
       "      <td>1</td>\n",
       "    </tr>\n",
       "    <tr>\n",
       "      <td>1557372.54</td>\n",
       "      <td>1</td>\n",
       "      <td>1</td>\n",
       "      <td>1</td>\n",
       "      <td>1</td>\n",
       "      <td>1</td>\n",
       "      <td>1</td>\n",
       "      <td>1</td>\n",
       "      <td>1</td>\n",
       "      <td>1</td>\n",
       "    </tr>\n",
       "  </tbody>\n",
       "</table>\n",
       "<p>56619 rows × 9 columns</p>\n",
       "</div>"
      ],
      "text/plain": [
       "                       Id  BIRTHDATE  DEATHDATE  MARITAL  RACE  ETHNICITY  \\\n",
       "HEALTHCARE_COVERAGE                                                         \n",
       "0.00                 1606       1606         52     1327  1606       1606   \n",
       "49.16                   1          1          0        0     1          1   \n",
       "69.16                  13         13          1       12    13         13   \n",
       "89.16                   4          4          0        4     4          4   \n",
       "98.32                   1          1          0        1     1          1   \n",
       "...                   ...        ...        ...      ...   ...        ...   \n",
       "1354660.73              1          1          0        1     1          1   \n",
       "1360456.77              1          1          0        1     1          1   \n",
       "1367572.64              1          1          1        1     1          1   \n",
       "1465584.80              1          1          1        1     1          1   \n",
       "1557372.54              1          1          1        1     1          1   \n",
       "\n",
       "                     GENDER  CITY  STATE  \n",
       "HEALTHCARE_COVERAGE                       \n",
       "0.00                   1606  1606   1606  \n",
       "49.16                     1     1      1  \n",
       "69.16                    13    13     13  \n",
       "89.16                     4     4      4  \n",
       "98.32                     1     1      1  \n",
       "...                     ...   ...    ...  \n",
       "1354660.73                1     1      1  \n",
       "1360456.77                1     1      1  \n",
       "1367572.64                1     1      1  \n",
       "1465584.80                1     1      1  \n",
       "1557372.54                1     1      1  \n",
       "\n",
       "[56619 rows x 9 columns]"
      ]
     },
     "execution_count": 21,
     "metadata": {},
     "output_type": "execute_result"
    }
   ],
   "source": [
    "covid19_patients_df.groupby(['HEALTHCARE_COVERAGE']).count()"
   ]
  },
  {
   "cell_type": "code",
   "execution_count": 22,
   "metadata": {},
   "outputs": [
    {
     "name": "stdout",
     "output_type": "stream",
     "text": [
      "<class 'pandas.core.frame.DataFrame'>\n",
      "Int64Index: 73697 entries, 3 to 117956\n",
      "Data columns (total 10 columns):\n",
      "Id                     73697 non-null object\n",
      "BIRTHDATE              73697 non-null object\n",
      "DEATHDATE              5568 non-null object\n",
      "MARITAL                67360 non-null object\n",
      "RACE                   73697 non-null object\n",
      "ETHNICITY              73697 non-null object\n",
      "GENDER                 73697 non-null object\n",
      "CITY                   73697 non-null object\n",
      "STATE                  73697 non-null object\n",
      "HEALTHCARE_COVERAGE    73697 non-null object\n",
      "dtypes: object(10)\n",
      "memory usage: 8.7+ MB\n"
     ]
    }
   ],
   "source": [
    "covid19_patients_df.info()"
   ]
  },
  {
   "cell_type": "markdown",
   "metadata": {},
   "source": [
    "# Encounters Data: Contains hospitalizations"
   ]
  },
  {
   "cell_type": "code",
   "execution_count": 23,
   "metadata": {},
   "outputs": [],
   "source": [
    "encounters_df = pd.read_csv('C:\\\\Projects\\\\healthdata\\\\train\\\\encounters.csv')"
   ]
  },
  {
   "cell_type": "code",
   "execution_count": 24,
   "metadata": {},
   "outputs": [
    {
     "data": {
      "text/plain": [
       "(6023703, 15)"
      ]
     },
     "execution_count": 24,
     "metadata": {},
     "output_type": "execute_result"
    }
   ],
   "source": [
    "encounters_df.shape"
   ]
  },
  {
   "cell_type": "code",
   "execution_count": 25,
   "metadata": {},
   "outputs": [
    {
     "name": "stdout",
     "output_type": "stream",
     "text": [
      "<class 'pandas.core.frame.DataFrame'>\n",
      "RangeIndex: 6023703 entries, 0 to 6023702\n",
      "Data columns (total 15 columns):\n",
      "Id                     object\n",
      "START                  object\n",
      "STOP                   object\n",
      "PATIENT                object\n",
      "ORGANIZATION           object\n",
      "PROVIDER               object\n",
      "PAYER                  object\n",
      "ENCOUNTERCLASS         object\n",
      "CODE                   int64\n",
      "DESCRIPTION            object\n",
      "BASE_ENCOUNTER_COST    float64\n",
      "TOTAL_CLAIM_COST       float64\n",
      "PAYER_COVERAGE         float64\n",
      "REASONCODE             float64\n",
      "REASONDESCRIPTION      object\n",
      "dtypes: float64(4), int64(1), object(10)\n",
      "memory usage: 689.4+ MB\n"
     ]
    }
   ],
   "source": [
    "encounters_df.info()"
   ]
  },
  {
   "cell_type": "markdown",
   "metadata": {},
   "source": [
    "Create DataFrame with only COVID-19 hospitalizations."
   ]
  },
  {
   "cell_type": "code",
   "execution_count": 26,
   "metadata": {},
   "outputs": [],
   "source": [
    "covid19_hosp_df = encounters_df.loc[(encounters_df['REASONCODE'] == 840539006)] "
   ]
  },
  {
   "cell_type": "code",
   "execution_count": 27,
   "metadata": {},
   "outputs": [
    {
     "data": {
      "text/plain": [
       "(31883, 15)"
      ]
     },
     "execution_count": 27,
     "metadata": {},
     "output_type": "execute_result"
    }
   ],
   "source": [
    "covid19_hosp_df.shape"
   ]
  },
  {
   "cell_type": "markdown",
   "metadata": {},
   "source": [
    "Create a subset DataFrame that only contains the following columns: Id, START, STOP, PATIENT, CODE, DESCRIPTION, REASONCODE, REASONDESCRIPTION."
   ]
  },
  {
   "cell_type": "code",
   "execution_count": 28,
   "metadata": {},
   "outputs": [],
   "source": [
    "covid19_hosp_subset_df = pd.DataFrame([covid19_hosp_df.Id, covid19_hosp_df.START, covid19_hosp_df.STOP, covid19_hosp_df.PATIENT, covid19_hosp_df.CODE, covid19_hosp_df.DESCRIPTION, covid19_hosp_df.REASONCODE, covid19_hosp_df.REASONDESCRIPTION]).transpose()"
   ]
  },
  {
   "cell_type": "code",
   "execution_count": 29,
   "metadata": {},
   "outputs": [
    {
     "data": {
      "text/plain": [
       "(31883, 8)"
      ]
     },
     "execution_count": 29,
     "metadata": {},
     "output_type": "execute_result"
    }
   ],
   "source": [
    "covid19_hosp_subset_df.shape"
   ]
  },
  {
   "cell_type": "code",
   "execution_count": 30,
   "metadata": {},
   "outputs": [
    {
     "name": "stdout",
     "output_type": "stream",
     "text": [
      "<class 'pandas.core.frame.DataFrame'>\n",
      "Int64Index: 31883 entries, 74 to 6022721\n",
      "Data columns (total 8 columns):\n",
      "Id                   31883 non-null object\n",
      "START                31883 non-null object\n",
      "STOP                 31883 non-null object\n",
      "PATIENT              31883 non-null object\n",
      "CODE                 31883 non-null object\n",
      "DESCRIPTION          31883 non-null object\n",
      "REASONCODE           31883 non-null object\n",
      "REASONDESCRIPTION    31883 non-null object\n",
      "dtypes: object(8)\n",
      "memory usage: 3.4+ MB\n"
     ]
    }
   ],
   "source": [
    "covid19_hosp_subset_df.info()"
   ]
  },
  {
   "cell_type": "markdown",
   "metadata": {},
   "source": [
    "# Encounters data: ICU Admissions"
   ]
  },
  {
   "cell_type": "code",
   "execution_count": 31,
   "metadata": {},
   "outputs": [],
   "source": [
    "covid19_icu_df = covid19_hosp_subset_df.loc[(covid19_hosp_subset_df['CODE'] == 305351004)]"
   ]
  },
  {
   "cell_type": "code",
   "execution_count": 32,
   "metadata": {},
   "outputs": [
    {
     "data": {
      "text/plain": [
       "(4981, 8)"
      ]
     },
     "execution_count": 32,
     "metadata": {},
     "output_type": "execute_result"
    }
   ],
   "source": [
    "covid19_icu_df.shape"
   ]
  },
  {
   "cell_type": "code",
   "execution_count": 33,
   "metadata": {},
   "outputs": [
    {
     "name": "stdout",
     "output_type": "stream",
     "text": [
      "<class 'pandas.core.frame.DataFrame'>\n",
      "Int64Index: 4981 entries, 296 to 6022720\n",
      "Data columns (total 8 columns):\n",
      "Id                   4981 non-null object\n",
      "START                4981 non-null object\n",
      "STOP                 4981 non-null object\n",
      "PATIENT              4981 non-null object\n",
      "CODE                 4981 non-null object\n",
      "DESCRIPTION          4981 non-null object\n",
      "REASONCODE           4981 non-null object\n",
      "REASONDESCRIPTION    4981 non-null object\n",
      "dtypes: object(8)\n",
      "memory usage: 350.2+ KB\n"
     ]
    }
   ],
   "source": [
    "covid19_icu_df.info()"
   ]
  },
  {
   "cell_type": "markdown",
   "metadata": {},
   "source": [
    "# Procedures Data: Contains controlled ventilation data for patients."
   ]
  },
  {
   "cell_type": "code",
   "execution_count": 34,
   "metadata": {},
   "outputs": [],
   "source": [
    "procedures_df = pd.read_csv('C:\\\\Projects\\\\healthdata\\\\train\\\\procedures.csv')"
   ]
  },
  {
   "cell_type": "code",
   "execution_count": 35,
   "metadata": {},
   "outputs": [
    {
     "data": {
      "text/plain": [
       "(1298614, 8)"
      ]
     },
     "execution_count": 35,
     "metadata": {},
     "output_type": "execute_result"
    }
   ],
   "source": [
    "procedures_df.shape"
   ]
  },
  {
   "cell_type": "code",
   "execution_count": 36,
   "metadata": {},
   "outputs": [
    {
     "name": "stdout",
     "output_type": "stream",
     "text": [
      "<class 'pandas.core.frame.DataFrame'>\n",
      "RangeIndex: 1298614 entries, 0 to 1298613\n",
      "Data columns (total 8 columns):\n",
      "DATE                 1298614 non-null object\n",
      "PATIENT              1298614 non-null object\n",
      "ENCOUNTER            1298614 non-null object\n",
      "CODE                 1298614 non-null int64\n",
      "DESCRIPTION          1298614 non-null object\n",
      "BASE_COST            1298614 non-null float64\n",
      "REASONCODE           878387 non-null float64\n",
      "REASONDESCRIPTION    878387 non-null object\n",
      "dtypes: float64(2), int64(1), object(5)\n",
      "memory usage: 79.3+ MB\n"
     ]
    }
   ],
   "source": [
    "procedures_df.info()"
   ]
  },
  {
   "cell_type": "markdown",
   "metadata": {},
   "source": [
    "# Look at data only for COVID-19 patients who need controlled ventilation"
   ]
  },
  {
   "cell_type": "code",
   "execution_count": 37,
   "metadata": {},
   "outputs": [],
   "source": [
    "covid19_procedures_df = procedures_df.loc[(procedures_df['PATIENT'].isin(covid19_status2_df['PATIENT']))]"
   ]
  },
  {
   "cell_type": "code",
   "execution_count": 38,
   "metadata": {},
   "outputs": [
    {
     "data": {
      "text/plain": [
       "(924752, 8)"
      ]
     },
     "execution_count": 38,
     "metadata": {},
     "output_type": "execute_result"
    }
   ],
   "source": [
    "covid19_procedures_df.shape"
   ]
  },
  {
   "cell_type": "code",
   "execution_count": 39,
   "metadata": {},
   "outputs": [],
   "source": [
    "covid19_controlvent_df = covid19_procedures_df.loc[(covid19_procedures_df['CODE'] == 26763009)]"
   ]
  },
  {
   "cell_type": "code",
   "execution_count": 40,
   "metadata": {},
   "outputs": [
    {
     "data": {
      "text/plain": [
       "(28920, 8)"
      ]
     },
     "execution_count": 40,
     "metadata": {},
     "output_type": "execute_result"
    }
   ],
   "source": [
    "covid19_controlvent_df.shape"
   ]
  },
  {
   "cell_type": "markdown",
   "metadata": {},
   "source": [
    "# Insert column containing number of days hospitalized into the COVID-19 hospital dataframe."
   ]
  },
  {
   "cell_type": "code",
   "execution_count": 41,
   "metadata": {},
   "outputs": [
    {
     "name": "stdout",
     "output_type": "stream",
     "text": [
      "<class 'pandas.core.frame.DataFrame'>\n",
      "Int64Index: 31883 entries, 74 to 6022721\n",
      "Data columns (total 8 columns):\n",
      "Id                   31883 non-null object\n",
      "START                31883 non-null object\n",
      "STOP                 31883 non-null object\n",
      "PATIENT              31883 non-null object\n",
      "CODE                 31883 non-null object\n",
      "DESCRIPTION          31883 non-null object\n",
      "REASONCODE           31883 non-null object\n",
      "REASONDESCRIPTION    31883 non-null object\n",
      "dtypes: object(8)\n",
      "memory usage: 3.4+ MB\n"
     ]
    }
   ],
   "source": [
    "covid19_hosp_subset_df.info()"
   ]
  },
  {
   "cell_type": "code",
   "execution_count": 42,
   "metadata": {},
   "outputs": [],
   "source": [
    "covid19_hosp_subset_df['START'] = pd.to_datetime(covid19_hosp_subset_df['START'])\n",
    "covid19_hosp_subset_df['STOP'] = pd.to_datetime(covid19_hosp_subset_df['STOP'])"
   ]
  },
  {
   "cell_type": "code",
   "execution_count": 43,
   "metadata": {},
   "outputs": [
    {
     "name": "stdout",
     "output_type": "stream",
     "text": [
      "<class 'pandas.core.frame.DataFrame'>\n",
      "Int64Index: 31883 entries, 74 to 6022721\n",
      "Data columns (total 8 columns):\n",
      "Id                   31883 non-null object\n",
      "START                31883 non-null datetime64[ns, UTC]\n",
      "STOP                 31883 non-null datetime64[ns, UTC]\n",
      "PATIENT              31883 non-null object\n",
      "CODE                 31883 non-null object\n",
      "DESCRIPTION          31883 non-null object\n",
      "REASONCODE           31883 non-null object\n",
      "REASONDESCRIPTION    31883 non-null object\n",
      "dtypes: datetime64[ns, UTC](2), object(6)\n",
      "memory usage: 3.4+ MB\n"
     ]
    }
   ],
   "source": [
    "covid19_hosp_subset_df.info()"
   ]
  },
  {
   "cell_type": "code",
   "execution_count": 44,
   "metadata": {},
   "outputs": [],
   "source": [
    "covid19_hosp_subset_df.insert(3, 'DAYSHOSPITALIZED', (covid19_hosp_subset_df['STOP'] - covid19_hosp_subset_df['START']))"
   ]
  },
  {
   "cell_type": "code",
   "execution_count": 45,
   "metadata": {},
   "outputs": [
    {
     "name": "stdout",
     "output_type": "stream",
     "text": [
      "<class 'pandas.core.frame.DataFrame'>\n",
      "Int64Index: 31883 entries, 74 to 6022721\n",
      "Data columns (total 9 columns):\n",
      "Id                   31883 non-null object\n",
      "START                31883 non-null datetime64[ns, UTC]\n",
      "STOP                 31883 non-null datetime64[ns, UTC]\n",
      "DAYSHOSPITALIZED     31883 non-null timedelta64[ns]\n",
      "PATIENT              31883 non-null object\n",
      "CODE                 31883 non-null object\n",
      "DESCRIPTION          31883 non-null object\n",
      "REASONCODE           31883 non-null object\n",
      "REASONDESCRIPTION    31883 non-null object\n",
      "dtypes: datetime64[ns, UTC](2), object(6), timedelta64[ns](1)\n",
      "memory usage: 3.7+ MB\n"
     ]
    }
   ],
   "source": [
    "covid19_hosp_subset_df.info()"
   ]
  },
  {
   "cell_type": "markdown",
   "metadata": {},
   "source": [
    "Created a DataFrame that contained data based on the Encounters \n",
    "DESCRIPTION column containing the words \"Death Certification\""
   ]
  },
  {
   "cell_type": "code",
   "execution_count": 46,
   "metadata": {},
   "outputs": [
    {
     "name": "stdout",
     "output_type": "stream",
     "text": [
      "<class 'pandas.core.frame.DataFrame'>\n",
      "Int64Index: 5325 entries, 297 to 6022721\n",
      "Data columns (total 9 columns):\n",
      "Id                   5325 non-null object\n",
      "START                5325 non-null datetime64[ns, UTC]\n",
      "STOP                 5325 non-null datetime64[ns, UTC]\n",
      "DAYSHOSPITALIZED     5325 non-null timedelta64[ns]\n",
      "PATIENT              5325 non-null object\n",
      "CODE                 5325 non-null object\n",
      "DESCRIPTION          5325 non-null object\n",
      "REASONCODE           5325 non-null object\n",
      "REASONDESCRIPTION    5325 non-null object\n",
      "dtypes: datetime64[ns, UTC](2), object(6), timedelta64[ns](1)\n",
      "memory usage: 416.0+ KB\n"
     ]
    }
   ],
   "source": [
    "covid19_hosp_deaths_df = covid19_hosp_subset_df.loc[(covid19_hosp_subset_df['DESCRIPTION'].str.contains('Death Certification'))]\n",
    "covid19_hosp_deaths_df.info()"
   ]
  },
  {
   "cell_type": "code",
   "execution_count": 47,
   "metadata": {},
   "outputs": [
    {
     "data": {
      "text/plain": [
       "(5325, 9)"
      ]
     },
     "execution_count": 47,
     "metadata": {},
     "output_type": "execute_result"
    }
   ],
   "source": [
    "covid19_hosp_deaths_df.shape"
   ]
  },
  {
   "cell_type": "code",
   "execution_count": 48,
   "metadata": {},
   "outputs": [
    {
     "name": "stdout",
     "output_type": "stream",
     "text": [
      "<class 'pandas.core.frame.DataFrame'>\n",
      "Int64Index: 31883 entries, 74 to 6022721\n",
      "Data columns (total 9 columns):\n",
      "Id                   31883 non-null object\n",
      "START                31883 non-null datetime64[ns, UTC]\n",
      "STOP                 31883 non-null datetime64[ns, UTC]\n",
      "DAYSHOSPITALIZED     31883 non-null timedelta64[ns]\n",
      "PATIENT              31883 non-null object\n",
      "CODE                 31883 non-null object\n",
      "DESCRIPTION          31883 non-null object\n",
      "REASONCODE           31883 non-null object\n",
      "REASONDESCRIPTION    31883 non-null object\n",
      "dtypes: datetime64[ns, UTC](2), object(6), timedelta64[ns](1)\n",
      "memory usage: 3.7+ MB\n"
     ]
    }
   ],
   "source": [
    "covid19_hosp_subset_df.info()"
   ]
  },
  {
   "cell_type": "code",
   "execution_count": 49,
   "metadata": {},
   "outputs": [
    {
     "data": {
      "text/plain": [
       "count                     31883\n",
       "mean     9 days 06:47:10.600633\n",
       "std      6 days 08:20:53.069331\n",
       "min             0 days 00:15:00\n",
       "25%             4 days 03:07:00\n",
       "50%             9 days 05:15:00\n",
       "75%            14 days 06:36:00\n",
       "max            21 days 11:58:00\n",
       "Name: DAYSHOSPITALIZED, dtype: object"
      ]
     },
     "execution_count": 49,
     "metadata": {},
     "output_type": "execute_result"
    }
   ],
   "source": [
    "covid19_hosp_subset_df['DAYSHOSPITALIZED'].describe()"
   ]
  },
  {
   "cell_type": "code",
   "execution_count": 50,
   "metadata": {},
   "outputs": [],
   "source": [
    "import matplotlib.pyplot as plt"
   ]
  },
  {
   "cell_type": "code",
   "execution_count": 51,
   "metadata": {},
   "outputs": [
    {
     "name": "stdout",
     "output_type": "stream",
     "text": [
      "<class 'pandas.core.frame.DataFrame'>\n",
      "Int64Index: 73697 entries, 3 to 117956\n",
      "Data columns (total 10 columns):\n",
      "Id                     73697 non-null object\n",
      "BIRTHDATE              73697 non-null object\n",
      "DEATHDATE              5568 non-null object\n",
      "MARITAL                67360 non-null object\n",
      "RACE                   73697 non-null object\n",
      "ETHNICITY              73697 non-null object\n",
      "GENDER                 73697 non-null object\n",
      "CITY                   73697 non-null object\n",
      "STATE                  73697 non-null object\n",
      "HEALTHCARE_COVERAGE    73697 non-null object\n",
      "dtypes: object(10)\n",
      "memory usage: 8.7+ MB\n"
     ]
    }
   ],
   "source": [
    "covid19_patients_df.info()"
   ]
  },
  {
   "cell_type": "code",
   "execution_count": 52,
   "metadata": {},
   "outputs": [
    {
     "name": "stdout",
     "output_type": "stream",
     "text": [
      "<class 'pandas.core.frame.DataFrame'>\n",
      "Int64Index: 31883 entries, 74 to 6022721\n",
      "Data columns (total 9 columns):\n",
      "Id                   31883 non-null object\n",
      "START                31883 non-null datetime64[ns, UTC]\n",
      "STOP                 31883 non-null datetime64[ns, UTC]\n",
      "DAYSHOSPITALIZED     31883 non-null timedelta64[ns]\n",
      "PATIENT              31883 non-null object\n",
      "CODE                 31883 non-null object\n",
      "DESCRIPTION          31883 non-null object\n",
      "REASONCODE           31883 non-null object\n",
      "REASONDESCRIPTION    31883 non-null object\n",
      "dtypes: datetime64[ns, UTC](2), object(6), timedelta64[ns](1)\n",
      "memory usage: 3.7+ MB\n"
     ]
    }
   ],
   "source": [
    "covid19_hosp_subset_df.info()"
   ]
  },
  {
   "cell_type": "markdown",
   "metadata": {},
   "source": [
    "Adding DAYSHOSPITALIZED to COVID-19 patients dataframe"
   ]
  },
  {
   "cell_type": "code",
   "execution_count": 53,
   "metadata": {},
   "outputs": [],
   "source": [
    "covid19_patients_df = pd.merge(covid19_patients_df, covid19_hosp_subset_df[['DAYSHOSPITALIZED', 'PATIENT']], how='left', left_on='Id', right_on='PATIENT')\n",
    "covid19_patients_df.drop(columns='PATIENT', inplace = True)"
   ]
  },
  {
   "cell_type": "code",
   "execution_count": 54,
   "metadata": {},
   "outputs": [
    {
     "name": "stdout",
     "output_type": "stream",
     "text": [
      "<class 'pandas.core.frame.DataFrame'>\n",
      "Int64Index: 85160 entries, 0 to 85159\n",
      "Data columns (total 11 columns):\n",
      "Id                     85160 non-null object\n",
      "BIRTHDATE              85160 non-null object\n",
      "DEATHDATE              14687 non-null object\n",
      "MARITAL                78556 non-null object\n",
      "RACE                   85160 non-null object\n",
      "ETHNICITY              85160 non-null object\n",
      "GENDER                 85160 non-null object\n",
      "CITY                   85160 non-null object\n",
      "STATE                  85160 non-null object\n",
      "HEALTHCARE_COVERAGE    85160 non-null object\n",
      "DAYSHOSPITALIZED       31865 non-null timedelta64[ns]\n",
      "dtypes: object(10), timedelta64[ns](1)\n",
      "memory usage: 7.8+ MB\n"
     ]
    }
   ],
   "source": [
    "covid19_patients_df.info()"
   ]
  },
  {
   "cell_type": "code",
   "execution_count": 55,
   "metadata": {},
   "outputs": [
    {
     "data": {
      "text/plain": [
       "<matplotlib.axes._subplots.AxesSubplot at 0x1862b262188>"
      ]
     },
     "execution_count": 55,
     "metadata": {},
     "output_type": "execute_result"
    },
    {
     "data": {
      "image/png": "[encoded data removed]",
      "text/plain": [
       "<Figure size 432x288 with 1 Axes>"
      ]
     },
     "metadata": {},
     "output_type": "display_data"
    }
   ],
   "source": [
    "# Boxplot of attribute DAYSHOSPITALIZED segregated by GENDER\n",
    "sns.boxplot(x = covid19_patients_df['RACE'], y = covid19_patients_df['DAYSHOSPITALIZED'].dt.days)"
   ]
  },
  {
   "cell_type": "markdown",
   "metadata": {},
   "source": [
    "Add column to covid19_patients_df to track patients who survived: '1' = survived, '0' = died"
   ]
  },
  {
   "cell_type": "code",
   "execution_count": 56,
   "metadata": {},
   "outputs": [],
   "source": [
    "covid19_patients_df[\"SURVIVAL\"] = covid19_patients_df[\"DEATHDATE\"].apply(lambda x: \"1\" if pd.isnull(x) else \"0\")"
   ]
  },
  {
   "cell_type": "code",
   "execution_count": 57,
   "metadata": {},
   "outputs": [
    {
     "data": {
      "text/html": [
       "<div>\n",
       "<style scoped>\n",
       "    .dataframe tbody tr th:only-of-type {\n",
       "        vertical-align: middle;\n",
       "    }\n",
       "\n",
       "    .dataframe tbody tr th {\n",
       "        vertical-align: top;\n",
       "    }\n",
       "\n",
       "    .dataframe thead th {\n",
       "        text-align: right;\n",
       "    }\n",
       "</style>\n",
       "<table border=\"1\" class=\"dataframe\">\n",
       "  <thead>\n",
       "    <tr style=\"text-align: right;\">\n",
       "      <th></th>\n",
       "      <th>Id</th>\n",
       "      <th>BIRTHDATE</th>\n",
       "      <th>DEATHDATE</th>\n",
       "      <th>MARITAL</th>\n",
       "      <th>RACE</th>\n",
       "      <th>ETHNICITY</th>\n",
       "      <th>GENDER</th>\n",
       "      <th>CITY</th>\n",
       "      <th>STATE</th>\n",
       "      <th>HEALTHCARE_COVERAGE</th>\n",
       "      <th>DAYSHOSPITALIZED</th>\n",
       "      <th>SURVIVAL</th>\n",
       "    </tr>\n",
       "  </thead>\n",
       "  <tbody>\n",
       "    <tr>\n",
       "      <td>0</td>\n",
       "      <td>afa2680f-7f73-46d9-b0cd-2cf3db49724b</td>\n",
       "      <td>1978-06-16</td>\n",
       "      <td>NaN</td>\n",
       "      <td>M</td>\n",
       "      <td>white</td>\n",
       "      <td>nonhispanic</td>\n",
       "      <td>F</td>\n",
       "      <td>Wakefield</td>\n",
       "      <td>Massachusetts</td>\n",
       "      <td>8128.09</td>\n",
       "      <td>NaT</td>\n",
       "      <td>1</td>\n",
       "    </tr>\n",
       "    <tr>\n",
       "      <td>1</td>\n",
       "      <td>26e5d262-6cdc-4274-a5cd-d7fd439e35f9</td>\n",
       "      <td>1989-09-05</td>\n",
       "      <td>NaN</td>\n",
       "      <td>S</td>\n",
       "      <td>white</td>\n",
       "      <td>nonhispanic</td>\n",
       "      <td>M</td>\n",
       "      <td>Weston</td>\n",
       "      <td>Massachusetts</td>\n",
       "      <td>0</td>\n",
       "      <td>17 days 07:17:00</td>\n",
       "      <td>1</td>\n",
       "    </tr>\n",
       "    <tr>\n",
       "      <td>2</td>\n",
       "      <td>90031c21-e8a4-416e-b60b-23e871ee62dc</td>\n",
       "      <td>1983-07-24</td>\n",
       "      <td>NaN</td>\n",
       "      <td>M</td>\n",
       "      <td>white</td>\n",
       "      <td>nonhispanic</td>\n",
       "      <td>F</td>\n",
       "      <td>Millville</td>\n",
       "      <td>Massachusetts</td>\n",
       "      <td>12704.1</td>\n",
       "      <td>20 days 07:47:00</td>\n",
       "      <td>1</td>\n",
       "    </tr>\n",
       "    <tr>\n",
       "      <td>3</td>\n",
       "      <td>0ac2e031-ab88-41f9-ac5d-d7d588952222</td>\n",
       "      <td>1996-02-17</td>\n",
       "      <td>NaN</td>\n",
       "      <td>NaN</td>\n",
       "      <td>black</td>\n",
       "      <td>nonhispanic</td>\n",
       "      <td>M</td>\n",
       "      <td>Boston</td>\n",
       "      <td>Massachusetts</td>\n",
       "      <td>8129.28</td>\n",
       "      <td>NaT</td>\n",
       "      <td>1</td>\n",
       "    </tr>\n",
       "    <tr>\n",
       "      <td>4</td>\n",
       "      <td>45138fb4-dc79-4aec-ba78-7a012d3edca7</td>\n",
       "      <td>1960-06-08</td>\n",
       "      <td>NaN</td>\n",
       "      <td>M</td>\n",
       "      <td>white</td>\n",
       "      <td>hispanic</td>\n",
       "      <td>F</td>\n",
       "      <td>Boston</td>\n",
       "      <td>Massachusetts</td>\n",
       "      <td>1659.84</td>\n",
       "      <td>NaT</td>\n",
       "      <td>1</td>\n",
       "    </tr>\n",
       "  </tbody>\n",
       "</table>\n",
       "</div>"
      ],
      "text/plain": [
       "                                     Id   BIRTHDATE DEATHDATE MARITAL   RACE  \\\n",
       "0  afa2680f-7f73-46d9-b0cd-2cf3db49724b  1978-06-16       NaN       M  white   \n",
       "1  26e5d262-6cdc-4274-a5cd-d7fd439e35f9  1989-09-05       NaN       S  white   \n",
       "2  90031c21-e8a4-416e-b60b-23e871ee62dc  1983-07-24       NaN       M  white   \n",
       "3  0ac2e031-ab88-41f9-ac5d-d7d588952222  1996-02-17       NaN     NaN  black   \n",
       "4  45138fb4-dc79-4aec-ba78-7a012d3edca7  1960-06-08       NaN       M  white   \n",
       "\n",
       "     ETHNICITY GENDER       CITY          STATE HEALTHCARE_COVERAGE  \\\n",
       "0  nonhispanic      F  Wakefield  Massachusetts             8128.09   \n",
       "1  nonhispanic      M     Weston  Massachusetts                   0   \n",
       "2  nonhispanic      F  Millville  Massachusetts             12704.1   \n",
       "3  nonhispanic      M     Boston  Massachusetts             8129.28   \n",
       "4     hispanic      F     Boston  Massachusetts             1659.84   \n",
       "\n",
       "  DAYSHOSPITALIZED SURVIVAL  \n",
       "0              NaT        1  \n",
       "1 17 days 07:17:00        1  \n",
       "2 20 days 07:47:00        1  \n",
       "3              NaT        1  \n",
       "4              NaT        1  "
      ]
     },
     "execution_count": 57,
     "metadata": {},
     "output_type": "execute_result"
    }
   ],
   "source": [
    "covid19_patients_df.head()"
   ]
  },
  {
   "cell_type": "code",
   "execution_count": 58,
   "metadata": {},
   "outputs": [
    {
     "data": {
      "text/plain": [
       "<matplotlib.axes._subplots.AxesSubplot at 0x185159ff588>"
      ]
     },
     "execution_count": 58,
     "metadata": {},
     "output_type": "execute_result"
    },
    {
     "data": {
      "image/png": "[encoded data removed]",
      "text/plain": [
       "<Figure size 432x288 with 1 Axes>"
      ]
     },
     "metadata": {},
     "output_type": "display_data"
    }
   ],
   "source": [
    "sns.boxplot(x = covid19_patients_df['SURVIVAL'], y = covid19_patients_df['DAYSHOSPITALIZED'].dt.days)"
   ]
  },
  {
   "cell_type": "code",
   "execution_count": 59,
   "metadata": {},
   "outputs": [
    {
     "data": {
      "text/plain": [
       "<matplotlib.axes._subplots.AxesSubplot at 0x18625841048>"
      ]
     },
     "execution_count": 59,
     "metadata": {},
     "output_type": "execute_result"
    },
    {
     "data": {
      "image/png": "[encoded data removed]",
      "text/plain": [
       "<Figure size 432x288 with 1 Axes>"
      ]
     },
     "metadata": {},
     "output_type": "display_data"
    }
   ],
   "source": [
    "sns.scatterplot(x = covid19_patients_df['RACE'], y = covid19_patients_df['DAYSHOSPITALIZED'].dt.days, hue = covid19_patients_df['SURVIVAL'])"
   ]
  },
  {
   "cell_type": "code",
   "execution_count": 60,
   "metadata": {},
   "outputs": [
    {
     "data": {
      "text/html": [
       "<div>\n",
       "<style scoped>\n",
       "    .dataframe tbody tr th:only-of-type {\n",
       "        vertical-align: middle;\n",
       "    }\n",
       "\n",
       "    .dataframe tbody tr th {\n",
       "        vertical-align: top;\n",
       "    }\n",
       "\n",
       "    .dataframe thead th {\n",
       "        text-align: right;\n",
       "    }\n",
       "</style>\n",
       "<table border=\"1\" class=\"dataframe\">\n",
       "  <thead>\n",
       "    <tr style=\"text-align: right;\">\n",
       "      <th></th>\n",
       "      <th>DAYSHOSPITALIZED</th>\n",
       "    </tr>\n",
       "  </thead>\n",
       "  <tbody>\n",
       "    <tr>\n",
       "      <td>count</td>\n",
       "      <td>31865</td>\n",
       "    </tr>\n",
       "    <tr>\n",
       "      <td>mean</td>\n",
       "      <td>9 days 06:52:33.491918</td>\n",
       "    </tr>\n",
       "    <tr>\n",
       "      <td>std</td>\n",
       "      <td>6 days 08:20:11.657289</td>\n",
       "    </tr>\n",
       "    <tr>\n",
       "      <td>min</td>\n",
       "      <td>0 days 00:15:00</td>\n",
       "    </tr>\n",
       "    <tr>\n",
       "      <td>25%</td>\n",
       "      <td>4 days 03:08:00</td>\n",
       "    </tr>\n",
       "    <tr>\n",
       "      <td>50%</td>\n",
       "      <td>9 days 05:15:00</td>\n",
       "    </tr>\n",
       "    <tr>\n",
       "      <td>75%</td>\n",
       "      <td>14 days 06:38:00</td>\n",
       "    </tr>\n",
       "    <tr>\n",
       "      <td>max</td>\n",
       "      <td>21 days 11:58:00</td>\n",
       "    </tr>\n",
       "  </tbody>\n",
       "</table>\n",
       "</div>"
      ],
      "text/plain": [
       "             DAYSHOSPITALIZED\n",
       "count                   31865\n",
       "mean   9 days 06:52:33.491918\n",
       "std    6 days 08:20:11.657289\n",
       "min           0 days 00:15:00\n",
       "25%           4 days 03:08:00\n",
       "50%           9 days 05:15:00\n",
       "75%          14 days 06:38:00\n",
       "max          21 days 11:58:00"
      ]
     },
     "execution_count": 60,
     "metadata": {},
     "output_type": "execute_result"
    }
   ],
   "source": [
    "covid19_patients_df.describe()"
   ]
  },
  {
   "cell_type": "markdown",
   "metadata": {},
   "source": [
    "# Conditions Data: Contains other conditions a patient might have."
   ]
  },
  {
   "cell_type": "code",
   "execution_count": 61,
   "metadata": {},
   "outputs": [],
   "source": [
    "conditions_df = pd.read_csv('C:\\\\Projects\\\\healthdata\\\\train\\\\conditions.csv')"
   ]
  },
  {
   "cell_type": "code",
   "execution_count": 62,
   "metadata": {},
   "outputs": [
    {
     "name": "stdout",
     "output_type": "stream",
     "text": [
      "<class 'pandas.core.frame.DataFrame'>\n",
      "RangeIndex: 1362601 entries, 0 to 1362600\n",
      "Data columns (total 6 columns):\n",
      "START          1362601 non-null object\n",
      "STOP           529042 non-null object\n",
      "PATIENT        1362601 non-null object\n",
      "ENCOUNTER      1362601 non-null object\n",
      "CODE           1362601 non-null int64\n",
      "DESCRIPTION    1362601 non-null object\n",
      "dtypes: int64(1), object(5)\n",
      "memory usage: 62.4+ MB\n"
     ]
    }
   ],
   "source": [
    "conditions_df.info()"
   ]
  },
  {
   "cell_type": "code",
   "execution_count": 63,
   "metadata": {},
   "outputs": [
    {
     "data": {
      "text/html": [
       "<div>\n",
       "<style scoped>\n",
       "    .dataframe tbody tr th:only-of-type {\n",
       "        vertical-align: middle;\n",
       "    }\n",
       "\n",
       "    .dataframe tbody tr th {\n",
       "        vertical-align: top;\n",
       "    }\n",
       "\n",
       "    .dataframe thead th {\n",
       "        text-align: right;\n",
       "    }\n",
       "</style>\n",
       "<table border=\"1\" class=\"dataframe\">\n",
       "  <thead>\n",
       "    <tr style=\"text-align: right;\">\n",
       "      <th></th>\n",
       "      <th>START</th>\n",
       "      <th>STOP</th>\n",
       "      <th>PATIENT</th>\n",
       "      <th>ENCOUNTER</th>\n",
       "      <th>CODE</th>\n",
       "      <th>DESCRIPTION</th>\n",
       "    </tr>\n",
       "  </thead>\n",
       "  <tbody>\n",
       "    <tr>\n",
       "      <td>0</td>\n",
       "      <td>1995-08-22</td>\n",
       "      <td>NaN</td>\n",
       "      <td>93fa6213-73a1-4cce-b408-9986a4145801</td>\n",
       "      <td>4487de56-f20a-422d-a2f6-aa15dcd1cd6d</td>\n",
       "      <td>53741008</td>\n",
       "      <td>Coronary Heart Disease</td>\n",
       "    </tr>\n",
       "    <tr>\n",
       "      <td>1</td>\n",
       "      <td>2000-12-20</td>\n",
       "      <td>2000-12-27</td>\n",
       "      <td>93fa6213-73a1-4cce-b408-9986a4145801</td>\n",
       "      <td>d0105ca5-d725-44e9-aaee-51f0e04392e4</td>\n",
       "      <td>195662009</td>\n",
       "      <td>Acute viral pharyngitis (disorder)</td>\n",
       "    </tr>\n",
       "    <tr>\n",
       "      <td>2</td>\n",
       "      <td>2001-12-04</td>\n",
       "      <td>NaN</td>\n",
       "      <td>93fa6213-73a1-4cce-b408-9986a4145801</td>\n",
       "      <td>1123f059-daf8-4a9e-be5f-e1eee5fcdb48</td>\n",
       "      <td>22298006</td>\n",
       "      <td>Myocardial Infarction</td>\n",
       "    </tr>\n",
       "    <tr>\n",
       "      <td>3</td>\n",
       "      <td>2001-12-04</td>\n",
       "      <td>NaN</td>\n",
       "      <td>93fa6213-73a1-4cce-b408-9986a4145801</td>\n",
       "      <td>1123f059-daf8-4a9e-be5f-e1eee5fcdb48</td>\n",
       "      <td>399211009</td>\n",
       "      <td>History of myocardial infarction (situation)</td>\n",
       "    </tr>\n",
       "    <tr>\n",
       "      <td>4</td>\n",
       "      <td>2016-11-09</td>\n",
       "      <td>NaN</td>\n",
       "      <td>53bbfa41-5cab-422e-a8a7-8fa3ae55ed71</td>\n",
       "      <td>fdedb884-d844-420a-9ec7-5d6cab4ffd02</td>\n",
       "      <td>370143000</td>\n",
       "      <td>Major depression disorder</td>\n",
       "    </tr>\n",
       "  </tbody>\n",
       "</table>\n",
       "</div>"
      ],
      "text/plain": [
       "        START        STOP                               PATIENT  \\\n",
       "0  1995-08-22         NaN  93fa6213-73a1-4cce-b408-9986a4145801   \n",
       "1  2000-12-20  2000-12-27  93fa6213-73a1-4cce-b408-9986a4145801   \n",
       "2  2001-12-04         NaN  93fa6213-73a1-4cce-b408-9986a4145801   \n",
       "3  2001-12-04         NaN  93fa6213-73a1-4cce-b408-9986a4145801   \n",
       "4  2016-11-09         NaN  53bbfa41-5cab-422e-a8a7-8fa3ae55ed71   \n",
       "\n",
       "                              ENCOUNTER       CODE  \\\n",
       "0  4487de56-f20a-422d-a2f6-aa15dcd1cd6d   53741008   \n",
       "1  d0105ca5-d725-44e9-aaee-51f0e04392e4  195662009   \n",
       "2  1123f059-daf8-4a9e-be5f-e1eee5fcdb48   22298006   \n",
       "3  1123f059-daf8-4a9e-be5f-e1eee5fcdb48  399211009   \n",
       "4  fdedb884-d844-420a-9ec7-5d6cab4ffd02  370143000   \n",
       "\n",
       "                                    DESCRIPTION  \n",
       "0                        Coronary Heart Disease  \n",
       "1            Acute viral pharyngitis (disorder)  \n",
       "2                         Myocardial Infarction  \n",
       "3  History of myocardial infarction (situation)  \n",
       "4                     Major depression disorder  "
      ]
     },
     "execution_count": 63,
     "metadata": {},
     "output_type": "execute_result"
    }
   ],
   "source": [
    "conditions_df.head()"
   ]
  },
  {
   "cell_type": "code",
   "execution_count": 64,
   "metadata": {},
   "outputs": [],
   "source": [
    "diabetes_status_df = conditions_df.loc[(conditions_df['CODE'] == 44054006)]"
   ]
  },
  {
   "cell_type": "code",
   "execution_count": 65,
   "metadata": {},
   "outputs": [
    {
     "data": {
      "text/html": [
       "<div>\n",
       "<style scoped>\n",
       "    .dataframe tbody tr th:only-of-type {\n",
       "        vertical-align: middle;\n",
       "    }\n",
       "\n",
       "    .dataframe tbody tr th {\n",
       "        vertical-align: top;\n",
       "    }\n",
       "\n",
       "    .dataframe thead th {\n",
       "        text-align: right;\n",
       "    }\n",
       "</style>\n",
       "<table border=\"1\" class=\"dataframe\">\n",
       "  <thead>\n",
       "    <tr style=\"text-align: right;\">\n",
       "      <th></th>\n",
       "      <th>START</th>\n",
       "      <th>STOP</th>\n",
       "      <th>PATIENT</th>\n",
       "      <th>ENCOUNTER</th>\n",
       "      <th>CODE</th>\n",
       "      <th>DESCRIPTION</th>\n",
       "    </tr>\n",
       "  </thead>\n",
       "  <tbody>\n",
       "    <tr>\n",
       "      <td>26</td>\n",
       "      <td>2002-09-22</td>\n",
       "      <td>NaN</td>\n",
       "      <td>90031c21-e8a4-416e-b60b-23e871ee62dc</td>\n",
       "      <td>77b632e7-76b9-4a24-a740-8db88ebbefa7</td>\n",
       "      <td>44054006</td>\n",
       "      <td>Diabetes</td>\n",
       "    </tr>\n",
       "    <tr>\n",
       "      <td>119</td>\n",
       "      <td>1983-07-15</td>\n",
       "      <td>NaN</td>\n",
       "      <td>c58ae02e-235e-4db2-a9c3-6926e9c0c5fa</td>\n",
       "      <td>30681ab2-b56c-454f-b5d9-b362460ce9cd</td>\n",
       "      <td>44054006</td>\n",
       "      <td>Diabetes</td>\n",
       "    </tr>\n",
       "    <tr>\n",
       "      <td>207</td>\n",
       "      <td>1983-08-17</td>\n",
       "      <td>NaN</td>\n",
       "      <td>614a610f-bd80-4721-a6f7-16d77b23b12e</td>\n",
       "      <td>b60c018f-93d4-4bf8-a03f-bfd34a8d14d1</td>\n",
       "      <td>44054006</td>\n",
       "      <td>Diabetes</td>\n",
       "    </tr>\n",
       "    <tr>\n",
       "      <td>233</td>\n",
       "      <td>1978-11-10</td>\n",
       "      <td>NaN</td>\n",
       "      <td>6348ae8c-a92f-40c5-9d59-d441bc540e6d</td>\n",
       "      <td>fb40a4d1-0f86-4621-a905-bc2cbc697586</td>\n",
       "      <td>44054006</td>\n",
       "      <td>Diabetes</td>\n",
       "    </tr>\n",
       "    <tr>\n",
       "      <td>254</td>\n",
       "      <td>2005-08-17</td>\n",
       "      <td>NaN</td>\n",
       "      <td>a8b30568-384b-45b5-b747-c096be9d6181</td>\n",
       "      <td>c386e184-654f-4956-a936-906d8f313a84</td>\n",
       "      <td>44054006</td>\n",
       "      <td>Diabetes</td>\n",
       "    </tr>\n",
       "  </tbody>\n",
       "</table>\n",
       "</div>"
      ],
      "text/plain": [
       "          START STOP                               PATIENT  \\\n",
       "26   2002-09-22  NaN  90031c21-e8a4-416e-b60b-23e871ee62dc   \n",
       "119  1983-07-15  NaN  c58ae02e-235e-4db2-a9c3-6926e9c0c5fa   \n",
       "207  1983-08-17  NaN  614a610f-bd80-4721-a6f7-16d77b23b12e   \n",
       "233  1978-11-10  NaN  6348ae8c-a92f-40c5-9d59-d441bc540e6d   \n",
       "254  2005-08-17  NaN  a8b30568-384b-45b5-b747-c096be9d6181   \n",
       "\n",
       "                                ENCOUNTER      CODE DESCRIPTION  \n",
       "26   77b632e7-76b9-4a24-a740-8db88ebbefa7  44054006    Diabetes  \n",
       "119  30681ab2-b56c-454f-b5d9-b362460ce9cd  44054006    Diabetes  \n",
       "207  b60c018f-93d4-4bf8-a03f-bfd34a8d14d1  44054006    Diabetes  \n",
       "233  fb40a4d1-0f86-4621-a905-bc2cbc697586  44054006    Diabetes  \n",
       "254  c386e184-654f-4956-a936-906d8f313a84  44054006    Diabetes  "
      ]
     },
     "execution_count": 65,
     "metadata": {},
     "output_type": "execute_result"
    }
   ],
   "source": [
    "diabetes_status_df.head()"
   ]
  },
  {
   "cell_type": "code",
   "execution_count": 66,
   "metadata": {},
   "outputs": [
    {
     "name": "stdout",
     "output_type": "stream",
     "text": [
      "<class 'pandas.core.frame.DataFrame'>\n",
      "Int64Index: 85160 entries, 0 to 85159\n",
      "Data columns (total 12 columns):\n",
      "Id                     85160 non-null object\n",
      "BIRTHDATE              85160 non-null object\n",
      "DEATHDATE              14687 non-null object\n",
      "MARITAL                78556 non-null object\n",
      "RACE                   85160 non-null object\n",
      "ETHNICITY              85160 non-null object\n",
      "GENDER                 85160 non-null object\n",
      "CITY                   85160 non-null object\n",
      "STATE                  85160 non-null object\n",
      "HEALTHCARE_COVERAGE    85160 non-null object\n",
      "DAYSHOSPITALIZED       31865 non-null timedelta64[ns]\n",
      "SURVIVAL               85160 non-null object\n",
      "dtypes: object(11), timedelta64[ns](1)\n",
      "memory usage: 10.9+ MB\n"
     ]
    }
   ],
   "source": [
    "covid19_patients_df.info()"
   ]
  },
  {
   "cell_type": "code",
   "execution_count": 67,
   "metadata": {},
   "outputs": [],
   "source": [
    "covid19_patients_df = pd.merge(covid19_patients_df, diabetes_status_df[['DESCRIPTION', 'PATIENT']], how='left', left_on='Id', right_on='PATIENT')\n",
    "covid19_patients_df.drop(columns='PATIENT', inplace = True)"
   ]
  },
  {
   "cell_type": "code",
   "execution_count": 68,
   "metadata": {},
   "outputs": [
    {
     "data": {
      "text/html": [
       "<div>\n",
       "<style scoped>\n",
       "    .dataframe tbody tr th:only-of-type {\n",
       "        vertical-align: middle;\n",
       "    }\n",
       "\n",
       "    .dataframe tbody tr th {\n",
       "        vertical-align: top;\n",
       "    }\n",
       "\n",
       "    .dataframe thead th {\n",
       "        text-align: right;\n",
       "    }\n",
       "</style>\n",
       "<table border=\"1\" class=\"dataframe\">\n",
       "  <thead>\n",
       "    <tr style=\"text-align: right;\">\n",
       "      <th></th>\n",
       "      <th>Id</th>\n",
       "      <th>BIRTHDATE</th>\n",
       "      <th>DEATHDATE</th>\n",
       "      <th>MARITAL</th>\n",
       "      <th>RACE</th>\n",
       "      <th>ETHNICITY</th>\n",
       "      <th>GENDER</th>\n",
       "      <th>CITY</th>\n",
       "      <th>STATE</th>\n",
       "      <th>HEALTHCARE_COVERAGE</th>\n",
       "      <th>DAYSHOSPITALIZED</th>\n",
       "      <th>SURVIVAL</th>\n",
       "      <th>DESCRIPTION</th>\n",
       "    </tr>\n",
       "  </thead>\n",
       "  <tbody>\n",
       "    <tr>\n",
       "      <td>0</td>\n",
       "      <td>afa2680f-7f73-46d9-b0cd-2cf3db49724b</td>\n",
       "      <td>1978-06-16</td>\n",
       "      <td>NaN</td>\n",
       "      <td>M</td>\n",
       "      <td>white</td>\n",
       "      <td>nonhispanic</td>\n",
       "      <td>F</td>\n",
       "      <td>Wakefield</td>\n",
       "      <td>Massachusetts</td>\n",
       "      <td>8128.09</td>\n",
       "      <td>NaT</td>\n",
       "      <td>1</td>\n",
       "      <td>NaN</td>\n",
       "    </tr>\n",
       "    <tr>\n",
       "      <td>1</td>\n",
       "      <td>26e5d262-6cdc-4274-a5cd-d7fd439e35f9</td>\n",
       "      <td>1989-09-05</td>\n",
       "      <td>NaN</td>\n",
       "      <td>S</td>\n",
       "      <td>white</td>\n",
       "      <td>nonhispanic</td>\n",
       "      <td>M</td>\n",
       "      <td>Weston</td>\n",
       "      <td>Massachusetts</td>\n",
       "      <td>0</td>\n",
       "      <td>17 days 07:17:00</td>\n",
       "      <td>1</td>\n",
       "      <td>NaN</td>\n",
       "    </tr>\n",
       "    <tr>\n",
       "      <td>2</td>\n",
       "      <td>90031c21-e8a4-416e-b60b-23e871ee62dc</td>\n",
       "      <td>1983-07-24</td>\n",
       "      <td>NaN</td>\n",
       "      <td>M</td>\n",
       "      <td>white</td>\n",
       "      <td>nonhispanic</td>\n",
       "      <td>F</td>\n",
       "      <td>Millville</td>\n",
       "      <td>Massachusetts</td>\n",
       "      <td>12704.1</td>\n",
       "      <td>20 days 07:47:00</td>\n",
       "      <td>1</td>\n",
       "      <td>Diabetes</td>\n",
       "    </tr>\n",
       "    <tr>\n",
       "      <td>3</td>\n",
       "      <td>0ac2e031-ab88-41f9-ac5d-d7d588952222</td>\n",
       "      <td>1996-02-17</td>\n",
       "      <td>NaN</td>\n",
       "      <td>NaN</td>\n",
       "      <td>black</td>\n",
       "      <td>nonhispanic</td>\n",
       "      <td>M</td>\n",
       "      <td>Boston</td>\n",
       "      <td>Massachusetts</td>\n",
       "      <td>8129.28</td>\n",
       "      <td>NaT</td>\n",
       "      <td>1</td>\n",
       "      <td>NaN</td>\n",
       "    </tr>\n",
       "    <tr>\n",
       "      <td>4</td>\n",
       "      <td>45138fb4-dc79-4aec-ba78-7a012d3edca7</td>\n",
       "      <td>1960-06-08</td>\n",
       "      <td>NaN</td>\n",
       "      <td>M</td>\n",
       "      <td>white</td>\n",
       "      <td>hispanic</td>\n",
       "      <td>F</td>\n",
       "      <td>Boston</td>\n",
       "      <td>Massachusetts</td>\n",
       "      <td>1659.84</td>\n",
       "      <td>NaT</td>\n",
       "      <td>1</td>\n",
       "      <td>NaN</td>\n",
       "    </tr>\n",
       "  </tbody>\n",
       "</table>\n",
       "</div>"
      ],
      "text/plain": [
       "                                     Id   BIRTHDATE DEATHDATE MARITAL   RACE  \\\n",
       "0  afa2680f-7f73-46d9-b0cd-2cf3db49724b  1978-06-16       NaN       M  white   \n",
       "1  26e5d262-6cdc-4274-a5cd-d7fd439e35f9  1989-09-05       NaN       S  white   \n",
       "2  90031c21-e8a4-416e-b60b-23e871ee62dc  1983-07-24       NaN       M  white   \n",
       "3  0ac2e031-ab88-41f9-ac5d-d7d588952222  1996-02-17       NaN     NaN  black   \n",
       "4  45138fb4-dc79-4aec-ba78-7a012d3edca7  1960-06-08       NaN       M  white   \n",
       "\n",
       "     ETHNICITY GENDER       CITY          STATE HEALTHCARE_COVERAGE  \\\n",
       "0  nonhispanic      F  Wakefield  Massachusetts             8128.09   \n",
       "1  nonhispanic      M     Weston  Massachusetts                   0   \n",
       "2  nonhispanic      F  Millville  Massachusetts             12704.1   \n",
       "3  nonhispanic      M     Boston  Massachusetts             8129.28   \n",
       "4     hispanic      F     Boston  Massachusetts             1659.84   \n",
       "\n",
       "  DAYSHOSPITALIZED SURVIVAL DESCRIPTION  \n",
       "0              NaT        1         NaN  \n",
       "1 17 days 07:17:00        1         NaN  \n",
       "2 20 days 07:47:00        1    Diabetes  \n",
       "3              NaT        1         NaN  \n",
       "4              NaT        1         NaN  "
      ]
     },
     "execution_count": 68,
     "metadata": {},
     "output_type": "execute_result"
    }
   ],
   "source": [
    "covid19_patients_df.head()"
   ]
  },
  {
   "cell_type": "code",
   "execution_count": 69,
   "metadata": {},
   "outputs": [
    {
     "name": "stdout",
     "output_type": "stream",
     "text": [
      "<class 'pandas.core.frame.DataFrame'>\n",
      "Int64Index: 85160 entries, 0 to 85159\n",
      "Data columns (total 13 columns):\n",
      "Id                     85160 non-null object\n",
      "BIRTHDATE              85160 non-null object\n",
      "DEATHDATE              14687 non-null object\n",
      "MARITAL                78556 non-null object\n",
      "RACE                   85160 non-null object\n",
      "ETHNICITY              85160 non-null object\n",
      "GENDER                 85160 non-null object\n",
      "CITY                   85160 non-null object\n",
      "STATE                  85160 non-null object\n",
      "HEALTHCARE_COVERAGE    85160 non-null object\n",
      "DAYSHOSPITALIZED       31865 non-null timedelta64[ns]\n",
      "SURVIVAL               85160 non-null object\n",
      "DESCRIPTION            17807 non-null object\n",
      "dtypes: object(12), timedelta64[ns](1)\n",
      "memory usage: 9.1+ MB\n"
     ]
    }
   ],
   "source": [
    "covid19_patients_df.info()"
   ]
  },
  {
   "cell_type": "code",
   "execution_count": 70,
   "metadata": {},
   "outputs": [
    {
     "data": {
      "text/plain": [
       "Timedelta('9 days 06:52:33.491918')"
      ]
     },
     "execution_count": 70,
     "metadata": {},
     "output_type": "execute_result"
    }
   ],
   "source": [
    "covid19_patients_df['DAYSHOSPITALIZED'].mean()"
   ]
  },
  {
   "cell_type": "code",
   "execution_count": 71,
   "metadata": {},
   "outputs": [
    {
     "data": {
      "text/plain": [
       "<matplotlib.axes._subplots.AxesSubplot at 0x18625841d48>"
      ]
     },
     "execution_count": 71,
     "metadata": {},
     "output_type": "execute_result"
    },
    {
     "data": {
      "image/png": "[encoded data removed]",
      "text/plain": [
       "<Figure size 432x288 with 1 Axes>"
      ]
     },
     "metadata": {},
     "output_type": "display_data"
    }
   ],
   "source": [
    "sns.scatterplot(x = covid19_patients_df['SURVIVAL'], y = covid19_patients_df['DAYSHOSPITALIZED'].dt.days, hue = covid19_patients_df['DESCRIPTION'])"
   ]
  },
  {
   "cell_type": "code",
   "execution_count": 72,
   "metadata": {},
   "outputs": [
    {
     "data": {
      "image/png": "[encoded data removed]",
      "text/plain": [
       "<Figure size 432x288 with 1 Axes>"
      ]
     },
     "metadata": {},
     "output_type": "display_data"
    }
   ],
   "source": [
    "sns.set(style=\"darkgrid\")\n",
    "ax = sns.countplot(x=\"RACE\", hue=\"SURVIVAL\", data=covid19_patients_df)"
   ]
  },
  {
   "cell_type": "code",
   "execution_count": 73,
   "metadata": {},
   "outputs": [
    {
     "data": {
      "image/png": "[encoded data removed]",
      "text/plain": [
       "<Figure size 432x288 with 1 Axes>"
      ]
     },
     "metadata": {},
     "output_type": "display_data"
    }
   ],
   "source": [
    "ax = sns.countplot(y=\"RACE\", hue=\"SURVIVAL\", data=covid19_patients_df)"
   ]
  },
  {
   "cell_type": "code",
   "execution_count": 74,
   "metadata": {},
   "outputs": [
    {
     "data": {
      "image/png": "[encoded data removed]",
      "text/plain": [
       "<Figure size 501.55x288 with 2 Axes>"
      ]
     },
     "metadata": {},
     "output_type": "display_data"
    }
   ],
   "source": [
    "g = sns.catplot(x=\"RACE\", hue=\"ETHNICITY\", col=\"SURVIVAL\",\n",
    "                data=covid19_patients_df, kind=\"count\",\n",
    "                height=4, aspect=.7);"
   ]
  },
  {
   "cell_type": "code",
   "execution_count": 75,
   "metadata": {},
   "outputs": [
    {
     "data": {
      "image/png": "[encoded data removed]",
      "text/plain": [
       "<Figure size 432x288 with 1 Axes>"
      ]
     },
     "metadata": {},
     "output_type": "display_data"
    }
   ],
   "source": [
    "ax = sns.countplot(x=\"ETHNICITY\", hue=\"SURVIVAL\", data=covid19_patients_df)"
   ]
  },
  {
   "cell_type": "code",
   "execution_count": 76,
   "metadata": {},
   "outputs": [
    {
     "data": {
      "image/png": "[encoded data removed]",
      "text/plain": [
       "<Figure size 432x288 with 1 Axes>"
      ]
     },
     "metadata": {},
     "output_type": "display_data"
    }
   ],
   "source": [
    "ax = sns.countplot(x=\"GENDER\", hue=\"SURVIVAL\", data=covid19_patients_df)"
   ]
  },
  {
   "cell_type": "markdown",
   "metadata": {},
   "source": [
    "Add column to covid19_patients_df to track patients who have Diabetes: '1' = Diabetes, '0' = Does Not have Diabetes"
   ]
  },
  {
   "cell_type": "code",
   "execution_count": 77,
   "metadata": {},
   "outputs": [],
   "source": [
    "covid19_patients_df[\"DIABETES\"] = covid19_patients_df[\"DESCRIPTION\"].apply(lambda x: \"0\" if pd.isnull(x) else \"1\")"
   ]
  },
  {
   "cell_type": "code",
   "execution_count": 78,
   "metadata": {},
   "outputs": [
    {
     "data": {
      "text/html": [
       "<div>\n",
       "<style scoped>\n",
       "    .dataframe tbody tr th:only-of-type {\n",
       "        vertical-align: middle;\n",
       "    }\n",
       "\n",
       "    .dataframe tbody tr th {\n",
       "        vertical-align: top;\n",
       "    }\n",
       "\n",
       "    .dataframe thead th {\n",
       "        text-align: right;\n",
       "    }\n",
       "</style>\n",
       "<table border=\"1\" class=\"dataframe\">\n",
       "  <thead>\n",
       "    <tr style=\"text-align: right;\">\n",
       "      <th></th>\n",
       "      <th>Id</th>\n",
       "      <th>BIRTHDATE</th>\n",
       "      <th>DEATHDATE</th>\n",
       "      <th>MARITAL</th>\n",
       "      <th>RACE</th>\n",
       "      <th>ETHNICITY</th>\n",
       "      <th>GENDER</th>\n",
       "      <th>CITY</th>\n",
       "      <th>STATE</th>\n",
       "      <th>HEALTHCARE_COVERAGE</th>\n",
       "      <th>DAYSHOSPITALIZED</th>\n",
       "      <th>SURVIVAL</th>\n",
       "      <th>DESCRIPTION</th>\n",
       "      <th>DIABETES</th>\n",
       "    </tr>\n",
       "  </thead>\n",
       "  <tbody>\n",
       "    <tr>\n",
       "      <td>0</td>\n",
       "      <td>afa2680f-7f73-46d9-b0cd-2cf3db49724b</td>\n",
       "      <td>1978-06-16</td>\n",
       "      <td>NaN</td>\n",
       "      <td>M</td>\n",
       "      <td>white</td>\n",
       "      <td>nonhispanic</td>\n",
       "      <td>F</td>\n",
       "      <td>Wakefield</td>\n",
       "      <td>Massachusetts</td>\n",
       "      <td>8128.09</td>\n",
       "      <td>NaT</td>\n",
       "      <td>1</td>\n",
       "      <td>NaN</td>\n",
       "      <td>0</td>\n",
       "    </tr>\n",
       "    <tr>\n",
       "      <td>1</td>\n",
       "      <td>26e5d262-6cdc-4274-a5cd-d7fd439e35f9</td>\n",
       "      <td>1989-09-05</td>\n",
       "      <td>NaN</td>\n",
       "      <td>S</td>\n",
       "      <td>white</td>\n",
       "      <td>nonhispanic</td>\n",
       "      <td>M</td>\n",
       "      <td>Weston</td>\n",
       "      <td>Massachusetts</td>\n",
       "      <td>0</td>\n",
       "      <td>17 days 07:17:00</td>\n",
       "      <td>1</td>\n",
       "      <td>NaN</td>\n",
       "      <td>0</td>\n",
       "    </tr>\n",
       "    <tr>\n",
       "      <td>2</td>\n",
       "      <td>90031c21-e8a4-416e-b60b-23e871ee62dc</td>\n",
       "      <td>1983-07-24</td>\n",
       "      <td>NaN</td>\n",
       "      <td>M</td>\n",
       "      <td>white</td>\n",
       "      <td>nonhispanic</td>\n",
       "      <td>F</td>\n",
       "      <td>Millville</td>\n",
       "      <td>Massachusetts</td>\n",
       "      <td>12704.1</td>\n",
       "      <td>20 days 07:47:00</td>\n",
       "      <td>1</td>\n",
       "      <td>Diabetes</td>\n",
       "      <td>1</td>\n",
       "    </tr>\n",
       "    <tr>\n",
       "      <td>3</td>\n",
       "      <td>0ac2e031-ab88-41f9-ac5d-d7d588952222</td>\n",
       "      <td>1996-02-17</td>\n",
       "      <td>NaN</td>\n",
       "      <td>NaN</td>\n",
       "      <td>black</td>\n",
       "      <td>nonhispanic</td>\n",
       "      <td>M</td>\n",
       "      <td>Boston</td>\n",
       "      <td>Massachusetts</td>\n",
       "      <td>8129.28</td>\n",
       "      <td>NaT</td>\n",
       "      <td>1</td>\n",
       "      <td>NaN</td>\n",
       "      <td>0</td>\n",
       "    </tr>\n",
       "    <tr>\n",
       "      <td>4</td>\n",
       "      <td>45138fb4-dc79-4aec-ba78-7a012d3edca7</td>\n",
       "      <td>1960-06-08</td>\n",
       "      <td>NaN</td>\n",
       "      <td>M</td>\n",
       "      <td>white</td>\n",
       "      <td>hispanic</td>\n",
       "      <td>F</td>\n",
       "      <td>Boston</td>\n",
       "      <td>Massachusetts</td>\n",
       "      <td>1659.84</td>\n",
       "      <td>NaT</td>\n",
       "      <td>1</td>\n",
       "      <td>NaN</td>\n",
       "      <td>0</td>\n",
       "    </tr>\n",
       "  </tbody>\n",
       "</table>\n",
       "</div>"
      ],
      "text/plain": [
       "                                     Id   BIRTHDATE DEATHDATE MARITAL   RACE  \\\n",
       "0  afa2680f-7f73-46d9-b0cd-2cf3db49724b  1978-06-16       NaN       M  white   \n",
       "1  26e5d262-6cdc-4274-a5cd-d7fd439e35f9  1989-09-05       NaN       S  white   \n",
       "2  90031c21-e8a4-416e-b60b-23e871ee62dc  1983-07-24       NaN       M  white   \n",
       "3  0ac2e031-ab88-41f9-ac5d-d7d588952222  1996-02-17       NaN     NaN  black   \n",
       "4  45138fb4-dc79-4aec-ba78-7a012d3edca7  1960-06-08       NaN       M  white   \n",
       "\n",
       "     ETHNICITY GENDER       CITY          STATE HEALTHCARE_COVERAGE  \\\n",
       "0  nonhispanic      F  Wakefield  Massachusetts             8128.09   \n",
       "1  nonhispanic      M     Weston  Massachusetts                   0   \n",
       "2  nonhispanic      F  Millville  Massachusetts             12704.1   \n",
       "3  nonhispanic      M     Boston  Massachusetts             8129.28   \n",
       "4     hispanic      F     Boston  Massachusetts             1659.84   \n",
       "\n",
       "  DAYSHOSPITALIZED SURVIVAL DESCRIPTION DIABETES  \n",
       "0              NaT        1         NaN        0  \n",
       "1 17 days 07:17:00        1         NaN        0  \n",
       "2 20 days 07:47:00        1    Diabetes        1  \n",
       "3              NaT        1         NaN        0  \n",
       "4              NaT        1         NaN        0  "
      ]
     },
     "execution_count": 78,
     "metadata": {},
     "output_type": "execute_result"
    }
   ],
   "source": [
    "covid19_patients_df.head()"
   ]
  },
  {
   "cell_type": "code",
   "execution_count": 79,
   "metadata": {},
   "outputs": [
    {
     "data": {
      "text/plain": [
       "<matplotlib.axes._subplots.AxesSubplot at 0x186257a4ec8>"
      ]
     },
     "execution_count": 79,
     "metadata": {},
     "output_type": "execute_result"
    },
    {
     "data": {
      "image/png": "[encoded data removed]",
      "text/plain": [
       "<Figure size 432x288 with 1 Axes>"
      ]
     },
     "metadata": {},
     "output_type": "display_data"
    }
   ],
   "source": [
    "sns.boxplot(x = covid19_patients_df['DIABETES'], y = covid19_patients_df['DAYSHOSPITALIZED'].dt.days)"
   ]
  },
  {
   "cell_type": "markdown",
   "metadata": {},
   "source": [
    "SURVIVAL Means: '1' = survived, '0' = died\n",
    "    \n",
    "DIABETES Means: '1' = Diabetes, '0' = Does Not have Diabetes"
   ]
  },
  {
   "cell_type": "code",
   "execution_count": 80,
   "metadata": {},
   "outputs": [
    {
     "data": {
      "image/png": "[encoded data removed]",
      "text/plain": [
       "<Figure size 432x288 with 1 Axes>"
      ]
     },
     "metadata": {},
     "output_type": "display_data"
    }
   ],
   "source": [
    "ax = sns.countplot(x=\"DIABETES\", hue=\"SURVIVAL\", data=covid19_patients_df)"
   ]
  },
  {
   "cell_type": "code",
   "execution_count": 81,
   "metadata": {},
   "outputs": [
    {
     "data": {
      "image/png": "[encoded data removed]",
      "text/plain": [
       "<Figure size 462.125x288 with 2 Axes>"
      ]
     },
     "metadata": {},
     "output_type": "display_data"
    }
   ],
   "source": [
    "g = sns.catplot(x=\"RACE\", hue=\"SURVIVAL\", col=\"DIABETES\",\n",
    "                data=covid19_patients_df, kind=\"count\",\n",
    "                height=4, aspect=.7);"
   ]
  },
  {
   "cell_type": "code",
   "execution_count": 82,
   "metadata": {},
   "outputs": [
    {
     "data": {
      "text/plain": [
       "<matplotlib.axes._subplots.AxesSubplot at 0x1862585bfc8>"
      ]
     },
     "execution_count": 82,
     "metadata": {},
     "output_type": "execute_result"
    },
    {
     "data": {
      "image/png": "[encoded data removed]",
      "text/plain": [
       "<Figure size 432x288 with 1 Axes>"
      ]
     },
     "metadata": {},
     "output_type": "display_data"
    }
   ],
   "source": [
    "sns.boxplot(x = covid19_patients_df['SURVIVAL'], y = covid19_patients_df['DAYSHOSPITALIZED'].dt.days)"
   ]
  },
  {
   "cell_type": "code",
   "execution_count": 83,
   "metadata": {},
   "outputs": [
    {
     "data": {
      "text/plain": [
       "RACE    SURVIVAL\n",
       "asian   0             952\n",
       "        1            4734\n",
       "black   0            1251\n",
       "        1            6019\n",
       "native  0              92\n",
       "        1             389\n",
       "other   0               9\n",
       "        1              84\n",
       "white   0           12383\n",
       "        1           59247\n",
       "Name: Id, dtype: int64"
      ]
     },
     "execution_count": 83,
     "metadata": {},
     "output_type": "execute_result"
    }
   ],
   "source": [
    "covid19_patients_df.groupby(['RACE','SURVIVAL'])['Id'].count()"
   ]
  },
  {
   "cell_type": "code",
   "execution_count": 84,
   "metadata": {},
   "outputs": [
    {
     "name": "stdout",
     "output_type": "stream",
     "text": [
      "<class 'pandas.core.frame.DataFrame'>\n",
      "Int64Index: 85160 entries, 0 to 85159\n",
      "Data columns (total 14 columns):\n",
      "Id                     85160 non-null object\n",
      "BIRTHDATE              85160 non-null object\n",
      "DEATHDATE              14687 non-null object\n",
      "MARITAL                78556 non-null object\n",
      "RACE                   85160 non-null object\n",
      "ETHNICITY              85160 non-null object\n",
      "GENDER                 85160 non-null object\n",
      "CITY                   85160 non-null object\n",
      "STATE                  85160 non-null object\n",
      "HEALTHCARE_COVERAGE    85160 non-null object\n",
      "DAYSHOSPITALIZED       31865 non-null timedelta64[ns]\n",
      "SURVIVAL               85160 non-null object\n",
      "DESCRIPTION            17807 non-null object\n",
      "DIABETES               85160 non-null object\n",
      "dtypes: object(13), timedelta64[ns](1)\n",
      "memory usage: 12.2+ MB\n"
     ]
    }
   ],
   "source": [
    "covid19_patients_df.info()"
   ]
  },
  {
   "cell_type": "code",
   "execution_count": null,
   "metadata": {},
   "outputs": [],
   "source": []
  }
 ],
 "metadata": {
  "kernelspec": {
   "display_name": "Python 3",
   "language": "python",
   "name": "python3"
  },
  "language_info": {
   "codemirror_mode": {
    "name": "ipython",
    "version": 3
   },
   "file_extension": ".py",
   "mimetype": "text/x-python",
   "name": "python",
   "nbconvert_exporter": "python",
   "pygments_lexer": "ipython3",
   "version": "3.7.4"
  }
 },
 "nbformat": 4,
 "nbformat_minor": 2
}
